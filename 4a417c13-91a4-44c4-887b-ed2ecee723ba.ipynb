{
 "cells": [
  {
   "cell_type": "markdown",
   "id": "3f280d83",
   "metadata": {},
   "source": [
    "<div style=\"border:solid Purple 2px; padding: 40px\">\n",
    "\n",
    "<b>Привет, Евгений!👋\n",
    "\n",
    "Меня зовут Эльвира, я буду ревьюером твоего проекта. Предлагаю общаться на «ты», но если это не удобно - дай мне знать, и мы перейдем на «вы».\n",
    "\n",
    "\n",
    "Ты можешь найти мои комментарии, обозначенные <font color='green'>зеленым</font>, <font color='gold'>желтым</font> и <font color='red'>красным</font> цветами, например:\n",
    "\n",
    "\n",
    "<div class=\"alert alert-success\">\n",
    "<h2> Комментарий ревьюера 😊<a class=\"tocSkip\"> </h2>\n",
    "    \n",
    "Такими комментариями я буду помечать отлично проделаную работу😉\n",
    "</div>\n",
    "    \n",
    "<div class=\"alert alert-warning\">\n",
    "<h2> Комментарий ревьюера 🤓<a class=\"tocSkip\"> </h2>\n",
    "        \n",
    "В таких комментариях я постараюсь подсказать тебе более элегантное или легкое решение, некоторые хитрости и фишки. Части проекта, помеченные такими комментариями, можно не исправлять, но рекомендую обратить на них внимание.</div>\n",
    "\n",
    "<div class=\"alert alert-block alert-danger\">\n",
    "<h2> Комментарий ревьюера ⛔️<a class=\"tocSkip\"></h2>\n",
    "    \n",
    "В случае, когда решение на отдельном шаге требует существенной переработки и внесения правок. Если ты видишь такой комментарий, значит здесть есть недочет, который следует исправить.\n",
    "</div>\n",
    "\n",
    "Ты также можешь реагировать на мои комментарии своими, выделяя их цветами и наиболее понравившимся тебе способом оформления, но явно  отличающимся от моих комментариев. Это нужно, чтобы не создавалась путаница🙃\n",
    "    \n",
    "`<div class=\"alert alert-info\"> <b>Комментарий студента:</b> Например, вот так.</div>`\n",
    "\n",
    "Чтобы сделать подобный блок, кликни здесь дважды и скопируй всю предыдущую строку ;)\n",
    "    \n",
    "Пожалуйста, не удаляй и не перемещай мои комментарии, они будут особенно полезны для нашей работы в случае повторной проверки проекта.</div></b>"
   ]
  },
  {
   "cell_type": "markdown",
   "id": "386f2ae7",
   "metadata": {
    "deletable": false,
    "editable": false,
    "id": "386f2ae7"
   },
   "source": [
    "# Исследование надежности заемщиков\n"
   ]
  },
  {
   "cell_type": "markdown",
   "id": "9ba4b9ff",
   "metadata": {},
   "source": [
    "<div class=\"alert alert-warning\">\n",
    "<h2> Комментарий ревьюера 🤓<a class=\"tocSkip\"> </h2>\n",
    "\n",
    "Введение, как и общий вывод - важные части твоей работы, на которые в первую очередь обращает внимание заказчик. Введение станет лучше, если ты добавишь в него:\n",
    "* заголовок,\n",
    "\n",
    "* краткое описание проекта,\n",
    "\n",
    "* выделим цель проекта\n",
    "\n",
    "* описание данных\n",
    "\n",
    "* краткий план работы, выделим основные этапы, которые должны сделать.\n",
    "\n",
    "Тогда получатель отчета сможет быстрей его понять.\n",
    "\n",
    "</div>"
   ]
  },
  {
   "cell_type": "markdown",
   "id": "ffe86f65",
   "metadata": {
    "deletable": false,
    "editable": false,
    "id": "ffe86f65"
   },
   "source": [
    "Во второй части проекта вы выполните шаги 3 и 4. Их вручную проверит ревьюер.\n",
    "Чтобы вам не пришлось писать код заново для шагов 1 и 2, мы добавили авторские решения в ячейки с кодом. \n",
    "\n"
   ]
  },
  {
   "cell_type": "markdown",
   "id": "26613308",
   "metadata": {
    "deletable": false,
    "editable": false,
    "id": "26613308"
   },
   "source": [
    "## Откройте таблицу и изучите общую информацию о данных"
   ]
  },
  {
   "cell_type": "markdown",
   "id": "3c9f838e",
   "metadata": {
    "deletable": false,
    "editable": false,
    "id": "3c9f838e"
   },
   "source": [
    "**Задание 1. Импортируйте библиотеку pandas. Считайте данные из csv-файла в датафрейм и сохраните в переменную `data`. Путь к файлу:**\n",
    "\n",
    "`/datasets/data.csv`"
   ]
  },
  {
   "cell_type": "code",
   "execution_count": 1,
   "id": "77a68a90",
   "metadata": {
    "deletable": false,
    "id": "77a68a90"
   },
   "outputs": [],
   "source": [
    "import pandas as pd\n",
    "\n",
    "try:\n",
    "    data = pd.read_csv('/datasets/data.csv')\n",
    "except:\n",
    "    data = pd.read_csv('https://code.s3.yandex.net/datasets/data.csv')"
   ]
  },
  {
   "cell_type": "markdown",
   "id": "45365635",
   "metadata": {
    "deletable": false,
    "editable": false,
    "id": "45365635"
   },
   "source": [
    "**Задание 2. Выведите первые 20 строчек датафрейма `data` на экран.**"
   ]
  },
  {
   "cell_type": "code",
   "execution_count": 2,
   "id": "b0451a9a",
   "metadata": {
    "deletable": false,
    "id": "b0451a9a",
    "outputId": "1a8f3ef2-d323-4ec2-ddf7-89670b5944c4"
   },
   "outputs": [
    {
     "data": {
      "text/html": [
       "<div>\n",
       "<style scoped>\n",
       "    .dataframe tbody tr th:only-of-type {\n",
       "        vertical-align: middle;\n",
       "    }\n",
       "\n",
       "    .dataframe tbody tr th {\n",
       "        vertical-align: top;\n",
       "    }\n",
       "\n",
       "    .dataframe thead th {\n",
       "        text-align: right;\n",
       "    }\n",
       "</style>\n",
       "<table border=\"1\" class=\"dataframe\">\n",
       "  <thead>\n",
       "    <tr style=\"text-align: right;\">\n",
       "      <th></th>\n",
       "      <th>children</th>\n",
       "      <th>days_employed</th>\n",
       "      <th>dob_years</th>\n",
       "      <th>education</th>\n",
       "      <th>education_id</th>\n",
       "      <th>family_status</th>\n",
       "      <th>family_status_id</th>\n",
       "      <th>gender</th>\n",
       "      <th>income_type</th>\n",
       "      <th>debt</th>\n",
       "      <th>total_income</th>\n",
       "      <th>purpose</th>\n",
       "    </tr>\n",
       "  </thead>\n",
       "  <tbody>\n",
       "    <tr>\n",
       "      <th>0</th>\n",
       "      <td>1</td>\n",
       "      <td>-8437.673028</td>\n",
       "      <td>42</td>\n",
       "      <td>высшее</td>\n",
       "      <td>0</td>\n",
       "      <td>женат / замужем</td>\n",
       "      <td>0</td>\n",
       "      <td>F</td>\n",
       "      <td>сотрудник</td>\n",
       "      <td>0</td>\n",
       "      <td>253875.639453</td>\n",
       "      <td>покупка жилья</td>\n",
       "    </tr>\n",
       "    <tr>\n",
       "      <th>1</th>\n",
       "      <td>1</td>\n",
       "      <td>-4024.803754</td>\n",
       "      <td>36</td>\n",
       "      <td>среднее</td>\n",
       "      <td>1</td>\n",
       "      <td>женат / замужем</td>\n",
       "      <td>0</td>\n",
       "      <td>F</td>\n",
       "      <td>сотрудник</td>\n",
       "      <td>0</td>\n",
       "      <td>112080.014102</td>\n",
       "      <td>приобретение автомобиля</td>\n",
       "    </tr>\n",
       "    <tr>\n",
       "      <th>2</th>\n",
       "      <td>0</td>\n",
       "      <td>-5623.422610</td>\n",
       "      <td>33</td>\n",
       "      <td>Среднее</td>\n",
       "      <td>1</td>\n",
       "      <td>женат / замужем</td>\n",
       "      <td>0</td>\n",
       "      <td>M</td>\n",
       "      <td>сотрудник</td>\n",
       "      <td>0</td>\n",
       "      <td>145885.952297</td>\n",
       "      <td>покупка жилья</td>\n",
       "    </tr>\n",
       "    <tr>\n",
       "      <th>3</th>\n",
       "      <td>3</td>\n",
       "      <td>-4124.747207</td>\n",
       "      <td>32</td>\n",
       "      <td>среднее</td>\n",
       "      <td>1</td>\n",
       "      <td>женат / замужем</td>\n",
       "      <td>0</td>\n",
       "      <td>M</td>\n",
       "      <td>сотрудник</td>\n",
       "      <td>0</td>\n",
       "      <td>267628.550329</td>\n",
       "      <td>дополнительное образование</td>\n",
       "    </tr>\n",
       "    <tr>\n",
       "      <th>4</th>\n",
       "      <td>0</td>\n",
       "      <td>340266.072047</td>\n",
       "      <td>53</td>\n",
       "      <td>среднее</td>\n",
       "      <td>1</td>\n",
       "      <td>гражданский брак</td>\n",
       "      <td>1</td>\n",
       "      <td>F</td>\n",
       "      <td>пенсионер</td>\n",
       "      <td>0</td>\n",
       "      <td>158616.077870</td>\n",
       "      <td>сыграть свадьбу</td>\n",
       "    </tr>\n",
       "    <tr>\n",
       "      <th>5</th>\n",
       "      <td>0</td>\n",
       "      <td>-926.185831</td>\n",
       "      <td>27</td>\n",
       "      <td>высшее</td>\n",
       "      <td>0</td>\n",
       "      <td>гражданский брак</td>\n",
       "      <td>1</td>\n",
       "      <td>M</td>\n",
       "      <td>компаньон</td>\n",
       "      <td>0</td>\n",
       "      <td>255763.565419</td>\n",
       "      <td>покупка жилья</td>\n",
       "    </tr>\n",
       "    <tr>\n",
       "      <th>6</th>\n",
       "      <td>0</td>\n",
       "      <td>-2879.202052</td>\n",
       "      <td>43</td>\n",
       "      <td>высшее</td>\n",
       "      <td>0</td>\n",
       "      <td>женат / замужем</td>\n",
       "      <td>0</td>\n",
       "      <td>F</td>\n",
       "      <td>компаньон</td>\n",
       "      <td>0</td>\n",
       "      <td>240525.971920</td>\n",
       "      <td>операции с жильем</td>\n",
       "    </tr>\n",
       "    <tr>\n",
       "      <th>7</th>\n",
       "      <td>0</td>\n",
       "      <td>-152.779569</td>\n",
       "      <td>50</td>\n",
       "      <td>СРЕДНЕЕ</td>\n",
       "      <td>1</td>\n",
       "      <td>женат / замужем</td>\n",
       "      <td>0</td>\n",
       "      <td>M</td>\n",
       "      <td>сотрудник</td>\n",
       "      <td>0</td>\n",
       "      <td>135823.934197</td>\n",
       "      <td>образование</td>\n",
       "    </tr>\n",
       "    <tr>\n",
       "      <th>8</th>\n",
       "      <td>2</td>\n",
       "      <td>-6929.865299</td>\n",
       "      <td>35</td>\n",
       "      <td>ВЫСШЕЕ</td>\n",
       "      <td>0</td>\n",
       "      <td>гражданский брак</td>\n",
       "      <td>1</td>\n",
       "      <td>F</td>\n",
       "      <td>сотрудник</td>\n",
       "      <td>0</td>\n",
       "      <td>95856.832424</td>\n",
       "      <td>на проведение свадьбы</td>\n",
       "    </tr>\n",
       "    <tr>\n",
       "      <th>9</th>\n",
       "      <td>0</td>\n",
       "      <td>-2188.756445</td>\n",
       "      <td>41</td>\n",
       "      <td>среднее</td>\n",
       "      <td>1</td>\n",
       "      <td>женат / замужем</td>\n",
       "      <td>0</td>\n",
       "      <td>M</td>\n",
       "      <td>сотрудник</td>\n",
       "      <td>0</td>\n",
       "      <td>144425.938277</td>\n",
       "      <td>покупка жилья для семьи</td>\n",
       "    </tr>\n",
       "    <tr>\n",
       "      <th>10</th>\n",
       "      <td>2</td>\n",
       "      <td>-4171.483647</td>\n",
       "      <td>36</td>\n",
       "      <td>высшее</td>\n",
       "      <td>0</td>\n",
       "      <td>женат / замужем</td>\n",
       "      <td>0</td>\n",
       "      <td>M</td>\n",
       "      <td>компаньон</td>\n",
       "      <td>0</td>\n",
       "      <td>113943.491460</td>\n",
       "      <td>покупка недвижимости</td>\n",
       "    </tr>\n",
       "    <tr>\n",
       "      <th>11</th>\n",
       "      <td>0</td>\n",
       "      <td>-792.701887</td>\n",
       "      <td>40</td>\n",
       "      <td>среднее</td>\n",
       "      <td>1</td>\n",
       "      <td>женат / замужем</td>\n",
       "      <td>0</td>\n",
       "      <td>F</td>\n",
       "      <td>сотрудник</td>\n",
       "      <td>0</td>\n",
       "      <td>77069.234271</td>\n",
       "      <td>покупка коммерческой недвижимости</td>\n",
       "    </tr>\n",
       "    <tr>\n",
       "      <th>12</th>\n",
       "      <td>0</td>\n",
       "      <td>NaN</td>\n",
       "      <td>65</td>\n",
       "      <td>среднее</td>\n",
       "      <td>1</td>\n",
       "      <td>гражданский брак</td>\n",
       "      <td>1</td>\n",
       "      <td>M</td>\n",
       "      <td>пенсионер</td>\n",
       "      <td>0</td>\n",
       "      <td>NaN</td>\n",
       "      <td>сыграть свадьбу</td>\n",
       "    </tr>\n",
       "    <tr>\n",
       "      <th>13</th>\n",
       "      <td>0</td>\n",
       "      <td>-1846.641941</td>\n",
       "      <td>54</td>\n",
       "      <td>неоконченное высшее</td>\n",
       "      <td>2</td>\n",
       "      <td>женат / замужем</td>\n",
       "      <td>0</td>\n",
       "      <td>F</td>\n",
       "      <td>сотрудник</td>\n",
       "      <td>0</td>\n",
       "      <td>130458.228857</td>\n",
       "      <td>приобретение автомобиля</td>\n",
       "    </tr>\n",
       "    <tr>\n",
       "      <th>14</th>\n",
       "      <td>0</td>\n",
       "      <td>-1844.956182</td>\n",
       "      <td>56</td>\n",
       "      <td>высшее</td>\n",
       "      <td>0</td>\n",
       "      <td>гражданский брак</td>\n",
       "      <td>1</td>\n",
       "      <td>F</td>\n",
       "      <td>компаньон</td>\n",
       "      <td>1</td>\n",
       "      <td>165127.911772</td>\n",
       "      <td>покупка жилой недвижимости</td>\n",
       "    </tr>\n",
       "    <tr>\n",
       "      <th>15</th>\n",
       "      <td>1</td>\n",
       "      <td>-972.364419</td>\n",
       "      <td>26</td>\n",
       "      <td>среднее</td>\n",
       "      <td>1</td>\n",
       "      <td>женат / замужем</td>\n",
       "      <td>0</td>\n",
       "      <td>F</td>\n",
       "      <td>сотрудник</td>\n",
       "      <td>0</td>\n",
       "      <td>116820.904450</td>\n",
       "      <td>строительство собственной недвижимости</td>\n",
       "    </tr>\n",
       "    <tr>\n",
       "      <th>16</th>\n",
       "      <td>0</td>\n",
       "      <td>-1719.934226</td>\n",
       "      <td>35</td>\n",
       "      <td>среднее</td>\n",
       "      <td>1</td>\n",
       "      <td>женат / замужем</td>\n",
       "      <td>0</td>\n",
       "      <td>F</td>\n",
       "      <td>сотрудник</td>\n",
       "      <td>0</td>\n",
       "      <td>289202.704229</td>\n",
       "      <td>недвижимость</td>\n",
       "    </tr>\n",
       "    <tr>\n",
       "      <th>17</th>\n",
       "      <td>0</td>\n",
       "      <td>-2369.999720</td>\n",
       "      <td>33</td>\n",
       "      <td>высшее</td>\n",
       "      <td>0</td>\n",
       "      <td>гражданский брак</td>\n",
       "      <td>1</td>\n",
       "      <td>M</td>\n",
       "      <td>сотрудник</td>\n",
       "      <td>0</td>\n",
       "      <td>90410.586745</td>\n",
       "      <td>строительство недвижимости</td>\n",
       "    </tr>\n",
       "    <tr>\n",
       "      <th>18</th>\n",
       "      <td>0</td>\n",
       "      <td>400281.136913</td>\n",
       "      <td>53</td>\n",
       "      <td>среднее</td>\n",
       "      <td>1</td>\n",
       "      <td>вдовец / вдова</td>\n",
       "      <td>2</td>\n",
       "      <td>F</td>\n",
       "      <td>пенсионер</td>\n",
       "      <td>0</td>\n",
       "      <td>56823.777243</td>\n",
       "      <td>на покупку подержанного автомобиля</td>\n",
       "    </tr>\n",
       "    <tr>\n",
       "      <th>19</th>\n",
       "      <td>0</td>\n",
       "      <td>-10038.818549</td>\n",
       "      <td>48</td>\n",
       "      <td>СРЕДНЕЕ</td>\n",
       "      <td>1</td>\n",
       "      <td>в разводе</td>\n",
       "      <td>3</td>\n",
       "      <td>F</td>\n",
       "      <td>сотрудник</td>\n",
       "      <td>0</td>\n",
       "      <td>242831.107982</td>\n",
       "      <td>на покупку своего автомобиля</td>\n",
       "    </tr>\n",
       "  </tbody>\n",
       "</table>\n",
       "</div>"
      ],
      "text/plain": [
       "    children  days_employed  dob_years            education  education_id  \\\n",
       "0          1   -8437.673028         42               высшее             0   \n",
       "1          1   -4024.803754         36              среднее             1   \n",
       "2          0   -5623.422610         33              Среднее             1   \n",
       "3          3   -4124.747207         32              среднее             1   \n",
       "4          0  340266.072047         53              среднее             1   \n",
       "5          0    -926.185831         27               высшее             0   \n",
       "6          0   -2879.202052         43               высшее             0   \n",
       "7          0    -152.779569         50              СРЕДНЕЕ             1   \n",
       "8          2   -6929.865299         35               ВЫСШЕЕ             0   \n",
       "9          0   -2188.756445         41              среднее             1   \n",
       "10         2   -4171.483647         36               высшее             0   \n",
       "11         0    -792.701887         40              среднее             1   \n",
       "12         0            NaN         65              среднее             1   \n",
       "13         0   -1846.641941         54  неоконченное высшее             2   \n",
       "14         0   -1844.956182         56               высшее             0   \n",
       "15         1    -972.364419         26              среднее             1   \n",
       "16         0   -1719.934226         35              среднее             1   \n",
       "17         0   -2369.999720         33               высшее             0   \n",
       "18         0  400281.136913         53              среднее             1   \n",
       "19         0  -10038.818549         48              СРЕДНЕЕ             1   \n",
       "\n",
       "       family_status  family_status_id gender income_type  debt  \\\n",
       "0    женат / замужем                 0      F   сотрудник     0   \n",
       "1    женат / замужем                 0      F   сотрудник     0   \n",
       "2    женат / замужем                 0      M   сотрудник     0   \n",
       "3    женат / замужем                 0      M   сотрудник     0   \n",
       "4   гражданский брак                 1      F   пенсионер     0   \n",
       "5   гражданский брак                 1      M   компаньон     0   \n",
       "6    женат / замужем                 0      F   компаньон     0   \n",
       "7    женат / замужем                 0      M   сотрудник     0   \n",
       "8   гражданский брак                 1      F   сотрудник     0   \n",
       "9    женат / замужем                 0      M   сотрудник     0   \n",
       "10   женат / замужем                 0      M   компаньон     0   \n",
       "11   женат / замужем                 0      F   сотрудник     0   \n",
       "12  гражданский брак                 1      M   пенсионер     0   \n",
       "13   женат / замужем                 0      F   сотрудник     0   \n",
       "14  гражданский брак                 1      F   компаньон     1   \n",
       "15   женат / замужем                 0      F   сотрудник     0   \n",
       "16   женат / замужем                 0      F   сотрудник     0   \n",
       "17  гражданский брак                 1      M   сотрудник     0   \n",
       "18    вдовец / вдова                 2      F   пенсионер     0   \n",
       "19         в разводе                 3      F   сотрудник     0   \n",
       "\n",
       "     total_income                                 purpose  \n",
       "0   253875.639453                           покупка жилья  \n",
       "1   112080.014102                 приобретение автомобиля  \n",
       "2   145885.952297                           покупка жилья  \n",
       "3   267628.550329              дополнительное образование  \n",
       "4   158616.077870                         сыграть свадьбу  \n",
       "5   255763.565419                           покупка жилья  \n",
       "6   240525.971920                       операции с жильем  \n",
       "7   135823.934197                             образование  \n",
       "8    95856.832424                   на проведение свадьбы  \n",
       "9   144425.938277                 покупка жилья для семьи  \n",
       "10  113943.491460                    покупка недвижимости  \n",
       "11   77069.234271       покупка коммерческой недвижимости  \n",
       "12            NaN                         сыграть свадьбу  \n",
       "13  130458.228857                 приобретение автомобиля  \n",
       "14  165127.911772              покупка жилой недвижимости  \n",
       "15  116820.904450  строительство собственной недвижимости  \n",
       "16  289202.704229                            недвижимость  \n",
       "17   90410.586745              строительство недвижимости  \n",
       "18   56823.777243      на покупку подержанного автомобиля  \n",
       "19  242831.107982            на покупку своего автомобиля  "
      ]
     },
     "execution_count": 2,
     "metadata": {},
     "output_type": "execute_result"
    }
   ],
   "source": [
    "data.head(20)"
   ]
  },
  {
   "cell_type": "markdown",
   "id": "0ed8f27f",
   "metadata": {
    "deletable": false,
    "editable": false,
    "id": "0ed8f27f"
   },
   "source": [
    "**Задание 3. Выведите основную информацию о датафрейме с помощью метода `info()`.**"
   ]
  },
  {
   "cell_type": "code",
   "execution_count": 3,
   "id": "ab3f863b",
   "metadata": {
    "deletable": false,
    "id": "ab3f863b",
    "outputId": "15376089-8dad-46c9-b520-c05248d43158"
   },
   "outputs": [
    {
     "name": "stdout",
     "output_type": "stream",
     "text": [
      "<class 'pandas.core.frame.DataFrame'>\n",
      "RangeIndex: 21525 entries, 0 to 21524\n",
      "Data columns (total 12 columns):\n",
      " #   Column            Non-Null Count  Dtype  \n",
      "---  ------            --------------  -----  \n",
      " 0   children          21525 non-null  int64  \n",
      " 1   days_employed     19351 non-null  float64\n",
      " 2   dob_years         21525 non-null  int64  \n",
      " 3   education         21525 non-null  object \n",
      " 4   education_id      21525 non-null  int64  \n",
      " 5   family_status     21525 non-null  object \n",
      " 6   family_status_id  21525 non-null  int64  \n",
      " 7   gender            21525 non-null  object \n",
      " 8   income_type       21525 non-null  object \n",
      " 9   debt              21525 non-null  int64  \n",
      " 10  total_income      19351 non-null  float64\n",
      " 11  purpose           21525 non-null  object \n",
      "dtypes: float64(2), int64(5), object(5)\n",
      "memory usage: 2.0+ MB\n"
     ]
    }
   ],
   "source": [
    "data.info()"
   ]
  },
  {
   "cell_type": "markdown",
   "id": "60e3e22d",
   "metadata": {
    "deletable": false,
    "editable": false,
    "id": "60e3e22d"
   },
   "source": [
    "## Предобработка данных"
   ]
  },
  {
   "cell_type": "markdown",
   "id": "03dc170c",
   "metadata": {
    "deletable": false,
    "editable": false,
    "id": "03dc170c"
   },
   "source": [
    "### Удаление пропусков"
   ]
  },
  {
   "cell_type": "markdown",
   "id": "a4f54eef",
   "metadata": {
    "deletable": false,
    "editable": false,
    "id": "a4f54eef"
   },
   "source": [
    "**Задание 4. Выведите количество пропущенных значений для каждого столбца. Используйте комбинацию двух методов.**"
   ]
  },
  {
   "cell_type": "code",
   "execution_count": 4,
   "id": "2dc372b2",
   "metadata": {
    "deletable": false,
    "id": "2dc372b2",
    "outputId": "81f4d817-781c-465c-ed15-91ce4446810d"
   },
   "outputs": [
    {
     "data": {
      "text/plain": [
       "children               0\n",
       "days_employed       2174\n",
       "dob_years              0\n",
       "education              0\n",
       "education_id           0\n",
       "family_status          0\n",
       "family_status_id       0\n",
       "gender                 0\n",
       "income_type            0\n",
       "debt                   0\n",
       "total_income        2174\n",
       "purpose                0\n",
       "dtype: int64"
      ]
     },
     "execution_count": 4,
     "metadata": {},
     "output_type": "execute_result"
    }
   ],
   "source": [
    "data.isna().sum()"
   ]
  },
  {
   "cell_type": "markdown",
   "id": "14f011b1",
   "metadata": {
    "deletable": false,
    "editable": false,
    "id": "14f011b1"
   },
   "source": [
    "**Задание 5. В двух столбцах есть пропущенные значения. Один из них — `days_employed`. Пропуски в этом столбце вы обработаете на следующем этапе. Другой столбец с пропущенными значениями — `total_income` — хранит данные о доходах. На сумму дохода сильнее всего влияет тип занятости, поэтому заполнить пропуски в этом столбце нужно медианным значением по каждому типу из столбца `income_type`. Например, у человека с типом занятости `сотрудник` пропуск в столбце `total_income` должен быть заполнен медианным доходом среди всех записей с тем же типом.**"
   ]
  },
  {
   "cell_type": "code",
   "execution_count": 5,
   "id": "bdabfb6e",
   "metadata": {
    "deletable": false,
    "id": "bdabfb6e"
   },
   "outputs": [],
   "source": [
    "for t in data['income_type'].unique():\n",
    "    data.loc[(data['income_type'] == t) & (data['total_income'].isna()), 'total_income'] = \\\n",
    "    data.loc[(data['income_type'] == t), 'total_income'].median()"
   ]
  },
  {
   "cell_type": "markdown",
   "id": "5be34059",
   "metadata": {
    "deletable": false,
    "editable": false,
    "id": "5be34059"
   },
   "source": [
    "### Обработка аномальных значений"
   ]
  },
  {
   "cell_type": "markdown",
   "id": "a87606cb",
   "metadata": {
    "deletable": false,
    "editable": false,
    "id": "a87606cb"
   },
   "source": [
    "**Задание 6. В данных могут встречаться артефакты (аномалии) — значения, которые не отражают действительность и появились по какой-то ошибке. таким артефактом будет отрицательное количество дней трудового стажа в столбце `days_employed`. Для реальных данных это нормально. Обработайте значения в этом столбце: замените все отрицательные значения положительными с помощью метода `abs()`.**"
   ]
  },
  {
   "cell_type": "code",
   "execution_count": 6,
   "id": "020c46cc",
   "metadata": {
    "deletable": false,
    "id": "020c46cc"
   },
   "outputs": [],
   "source": [
    "data['days_employed'] = data['days_employed'].abs()"
   ]
  },
  {
   "cell_type": "markdown",
   "id": "45538a3a",
   "metadata": {
    "deletable": false,
    "editable": false,
    "id": "45538a3a"
   },
   "source": [
    "**Задание 7. Для каждого типа занятости выведите медианное значение трудового стажа `days_employed` в днях.**"
   ]
  },
  {
   "cell_type": "code",
   "execution_count": 7,
   "id": "cd3e6328",
   "metadata": {
    "deletable": false,
    "id": "cd3e6328",
    "outputId": "801ef80e-522b-4668-f34e-565af7432bcf"
   },
   "outputs": [
    {
     "data": {
      "text/plain": [
       "income_type\n",
       "безработный        366413.652744\n",
       "в декрете            3296.759962\n",
       "госслужащий          2689.368353\n",
       "компаньон            1547.382223\n",
       "пенсионер          365213.306266\n",
       "предприниматель       520.848083\n",
       "сотрудник            1574.202821\n",
       "студент               578.751554\n",
       "Name: days_employed, dtype: float64"
      ]
     },
     "execution_count": 7,
     "metadata": {},
     "output_type": "execute_result"
    }
   ],
   "source": [
    "data.groupby('income_type')['days_employed'].agg('median')"
   ]
  },
  {
   "cell_type": "markdown",
   "id": "90c5f058",
   "metadata": {
    "deletable": false,
    "editable": false,
    "id": "90c5f058"
   },
   "source": [
    "У двух типов (безработные и пенсионеры) получатся аномально большие значения. Исправить такие значения сложно, поэтому оставьте их как есть."
   ]
  },
  {
   "cell_type": "markdown",
   "id": "9652e50d",
   "metadata": {
    "deletable": false,
    "editable": false,
    "id": "9652e50d"
   },
   "source": [
    "**Задание 8. Выведите перечень уникальных значений столбца `children`.**"
   ]
  },
  {
   "cell_type": "code",
   "execution_count": 8,
   "id": "dbb37b8e",
   "metadata": {
    "deletable": false,
    "id": "dbb37b8e",
    "outputId": "6975b15c-7f95-4697-d16d-a0c79b657b03"
   },
   "outputs": [
    {
     "data": {
      "text/plain": [
       "array([ 1,  0,  3,  2, -1,  4, 20,  5])"
      ]
     },
     "execution_count": 8,
     "metadata": {},
     "output_type": "execute_result"
    }
   ],
   "source": [
    "data['children'].unique()"
   ]
  },
  {
   "cell_type": "markdown",
   "id": "2b8b0715",
   "metadata": {
    "deletable": false,
    "editable": false,
    "id": "2b8b0715"
   },
   "source": [
    "**Задание 9. В столбце `children` есть два аномальных значения. Удалите строки, в которых встречаются такие аномальные значения из датафрейма `data`.**"
   ]
  },
  {
   "cell_type": "code",
   "execution_count": 9,
   "id": "20009df8",
   "metadata": {
    "deletable": false,
    "id": "20009df8"
   },
   "outputs": [],
   "source": [
    "data = data[(data['children'] != -1) & (data['children'] != 20)]"
   ]
  },
  {
   "cell_type": "markdown",
   "id": "8c6ac9f1",
   "metadata": {
    "deletable": false,
    "editable": false,
    "id": "8c6ac9f1"
   },
   "source": [
    "**Задание 10. Ещё раз выведите перечень уникальных значений столбца `children`, чтобы убедиться, что артефакты удалены.**"
   ]
  },
  {
   "cell_type": "code",
   "execution_count": 10,
   "id": "07337b81",
   "metadata": {
    "deletable": false,
    "id": "07337b81",
    "outputId": "b2097101-d49d-44d9-901b-32a65c9463d1"
   },
   "outputs": [
    {
     "data": {
      "text/plain": [
       "array([1, 0, 3, 2, 4, 5])"
      ]
     },
     "execution_count": 10,
     "metadata": {},
     "output_type": "execute_result"
    }
   ],
   "source": [
    "data['children'].unique()"
   ]
  },
  {
   "cell_type": "markdown",
   "id": "ee3f52d4",
   "metadata": {
    "deletable": false,
    "editable": false,
    "id": "ee3f52d4"
   },
   "source": [
    "### Удаление пропусков (продолжение)"
   ]
  },
  {
   "cell_type": "markdown",
   "id": "a700b0e4",
   "metadata": {
    "deletable": false,
    "editable": false,
    "id": "a700b0e4"
   },
   "source": [
    "**Задание 11. Заполните пропуски в столбце `days_employed` медианными значениями по каждого типа занятости `income_type`.**"
   ]
  },
  {
   "cell_type": "code",
   "execution_count": 1,
   "id": "61946b83",
   "metadata": {
    "deletable": false,
    "id": "61946b83"
   },
   "outputs": [
    {
     "ename": "NameError",
     "evalue": "name 'data' is not defined",
     "output_type": "error",
     "traceback": [
      "\u001b[0;31m---------------------------------------------------------------------------\u001b[0m",
      "\u001b[0;31mNameError\u001b[0m                                 Traceback (most recent call last)",
      "\u001b[0;32m/tmp/ipykernel_75/2385804479.py\u001b[0m in \u001b[0;36m<module>\u001b[0;34m\u001b[0m\n\u001b[0;32m----> 1\u001b[0;31m \u001b[0;32mfor\u001b[0m \u001b[0mt\u001b[0m \u001b[0;32min\u001b[0m \u001b[0mdata\u001b[0m\u001b[0;34m[\u001b[0m\u001b[0;34m'income_type'\u001b[0m\u001b[0;34m]\u001b[0m\u001b[0;34m.\u001b[0m\u001b[0munique\u001b[0m\u001b[0;34m(\u001b[0m\u001b[0;34m)\u001b[0m\u001b[0;34m:\u001b[0m\u001b[0;34m\u001b[0m\u001b[0;34m\u001b[0m\u001b[0m\n\u001b[0m\u001b[1;32m      2\u001b[0m     \u001b[0mdata\u001b[0m\u001b[0;34m.\u001b[0m\u001b[0mloc\u001b[0m\u001b[0;34m[\u001b[0m\u001b[0;34m(\u001b[0m\u001b[0mdata\u001b[0m\u001b[0;34m[\u001b[0m\u001b[0;34m'income_type'\u001b[0m\u001b[0;34m]\u001b[0m \u001b[0;34m==\u001b[0m \u001b[0mt\u001b[0m\u001b[0;34m)\u001b[0m \u001b[0;34m&\u001b[0m \u001b[0;34m(\u001b[0m\u001b[0mdata\u001b[0m\u001b[0;34m[\u001b[0m\u001b[0;34m'days_employed'\u001b[0m\u001b[0;34m]\u001b[0m\u001b[0;34m.\u001b[0m\u001b[0misna\u001b[0m\u001b[0;34m(\u001b[0m\u001b[0;34m)\u001b[0m\u001b[0;34m)\u001b[0m\u001b[0;34m,\u001b[0m \u001b[0;34m'days_employed'\u001b[0m\u001b[0;34m]\u001b[0m \u001b[0;34m=\u001b[0m\u001b[0;31m \u001b[0m\u001b[0;31m\\\u001b[0m\u001b[0;34m\u001b[0m\u001b[0;34m\u001b[0m\u001b[0m\n\u001b[1;32m      3\u001b[0m     \u001b[0mdata\u001b[0m\u001b[0;34m.\u001b[0m\u001b[0mloc\u001b[0m\u001b[0;34m[\u001b[0m\u001b[0;34m(\u001b[0m\u001b[0mdata\u001b[0m\u001b[0;34m[\u001b[0m\u001b[0;34m'income_type'\u001b[0m\u001b[0;34m]\u001b[0m \u001b[0;34m==\u001b[0m \u001b[0mt\u001b[0m\u001b[0;34m)\u001b[0m\u001b[0;34m,\u001b[0m \u001b[0;34m'days_employed'\u001b[0m\u001b[0;34m]\u001b[0m\u001b[0;34m.\u001b[0m\u001b[0mmedian\u001b[0m\u001b[0;34m(\u001b[0m\u001b[0;34m)\u001b[0m\u001b[0;34m\u001b[0m\u001b[0;34m\u001b[0m\u001b[0m\n",
      "\u001b[0;31mNameError\u001b[0m: name 'data' is not defined"
     ]
    }
   ],
   "source": [
    "for t in data['income_type'].unique():\n",
    "    data.loc[(data['income_type'] == t) & (data['days_employed'].isna()), 'days_employed'] = \\\n",
    "    data.loc[(data['income_type'] == t), 'days_employed'].median()"
   ]
  },
  {
   "cell_type": "markdown",
   "id": "550dcd9b",
   "metadata": {
    "deletable": false,
    "editable": false,
    "id": "550dcd9b"
   },
   "source": [
    "**Задание 12. Убедитесь, что все пропуски заполнены. Проверьте себя и ещё раз выведите количество пропущенных значений для каждого столбца с помощью двух методов.**"
   ]
  },
  {
   "cell_type": "code",
   "execution_count": 12,
   "id": "937c7014",
   "metadata": {
    "deletable": false,
    "id": "937c7014",
    "outputId": "8da1e4e1-358e-4e87-98c9-f261bce0a7b2"
   },
   "outputs": [
    {
     "data": {
      "text/plain": [
       "children            0\n",
       "days_employed       0\n",
       "dob_years           0\n",
       "education           0\n",
       "education_id        0\n",
       "family_status       0\n",
       "family_status_id    0\n",
       "gender              0\n",
       "income_type         0\n",
       "debt                0\n",
       "total_income        0\n",
       "purpose             0\n",
       "dtype: int64"
      ]
     },
     "execution_count": 12,
     "metadata": {},
     "output_type": "execute_result"
    }
   ],
   "source": [
    "data.isna().sum()"
   ]
  },
  {
   "cell_type": "markdown",
   "id": "d522e295",
   "metadata": {
    "deletable": false,
    "editable": false,
    "id": "d522e295"
   },
   "source": [
    "### Изменение типов данных"
   ]
  },
  {
   "cell_type": "markdown",
   "id": "c229c581",
   "metadata": {
    "deletable": false,
    "editable": false,
    "id": "c229c581"
   },
   "source": [
    "**Задание 13. Замените вещественный тип данных в столбце `total_income` на целочисленный с помощью метода `astype()`.**"
   ]
  },
  {
   "cell_type": "code",
   "execution_count": 13,
   "id": "31036462",
   "metadata": {
    "deletable": false,
    "id": "31036462"
   },
   "outputs": [],
   "source": [
    "data['total_income'] = data['total_income'].astype(int)"
   ]
  },
  {
   "cell_type": "markdown",
   "id": "b8e3d1d9",
   "metadata": {
    "deletable": false,
    "editable": false,
    "id": "b8e3d1d9"
   },
   "source": [
    "### Обработка дубликатов"
   ]
  },
  {
   "cell_type": "markdown",
   "id": "9be53c49",
   "metadata": {
    "deletable": false,
    "editable": false,
    "id": "9be53c49"
   },
   "source": [
    "**Задание 14. Обработайте неявные дубликаты в столбце `education`. В этом столбце есть одни и те же значения, но записанные по-разному: с использованием заглавных и строчных букв. Приведите их к нижнему регистру.**"
   ]
  },
  {
   "cell_type": "code",
   "execution_count": 14,
   "id": "d89e73e1",
   "metadata": {
    "deletable": false,
    "id": "d89e73e1"
   },
   "outputs": [],
   "source": [
    "data['education'] = data['education'].str.lower()"
   ]
  },
  {
   "cell_type": "markdown",
   "id": "01d4500e",
   "metadata": {
    "deletable": false,
    "editable": false,
    "id": "01d4500e"
   },
   "source": [
    "**Задание 15. Выведите на экран количество строк-дубликатов в данных. Если такие строки присутствуют, удалите их.**"
   ]
  },
  {
   "cell_type": "code",
   "execution_count": 15,
   "id": "e10efb23",
   "metadata": {
    "deletable": false,
    "id": "e10efb23",
    "outputId": "9684deba-1934-42d1-99e1-cda61740f822"
   },
   "outputs": [
    {
     "data": {
      "text/plain": [
       "71"
      ]
     },
     "execution_count": 15,
     "metadata": {},
     "output_type": "execute_result"
    }
   ],
   "source": [
    "data.duplicated().sum()"
   ]
  },
  {
   "cell_type": "code",
   "execution_count": 16,
   "id": "df853f20",
   "metadata": {
    "deletable": false,
    "id": "df853f20"
   },
   "outputs": [],
   "source": [
    "data = data.drop_duplicates()"
   ]
  },
  {
   "cell_type": "markdown",
   "id": "627be38f",
   "metadata": {
    "deletable": false,
    "editable": false,
    "id": "627be38f"
   },
   "source": [
    "### Категоризация данных"
   ]
  },
  {
   "cell_type": "markdown",
   "id": "4684c3e0",
   "metadata": {
    "deletable": false,
    "editable": false,
    "id": "4684c3e0"
   },
   "source": [
    "**Задание 16. На основании диапазонов, указанных ниже, создайте в датафрейме `data` столбец `total_income_category` с категориями:**\n",
    "\n",
    "- 0–30000 — `'E'`;\n",
    "- 30001–50000 — `'D'`;\n",
    "- 50001–200000 — `'C'`;\n",
    "- 200001–1000000 — `'B'`;\n",
    "- 1000001 и выше — `'A'`.\n",
    "\n",
    "\n",
    "**Например, кредитополучателю с доходом 25000 нужно назначить категорию `'E'`, а клиенту, получающему 235000, — `'B'`. Используйте собственную функцию с именем `categorize_income()` и метод `apply()`.**"
   ]
  },
  {
   "cell_type": "code",
   "execution_count": 17,
   "id": "78965238",
   "metadata": {
    "deletable": false,
    "id": "78965238"
   },
   "outputs": [],
   "source": [
    "def categorize_income(income):\n",
    "    try:\n",
    "        if 0 <= income <= 30000:\n",
    "            return 'E'\n",
    "        elif 30001 <= income <= 50000:\n",
    "            return 'D'\n",
    "        elif 50001 <= income <= 200000:\n",
    "            return 'C'\n",
    "        elif 200001 <= income <= 1000000:\n",
    "            return 'B'\n",
    "        elif income >= 1000001:\n",
    "            return 'A'\n",
    "    except:\n",
    "        pass"
   ]
  },
  {
   "cell_type": "code",
   "execution_count": 18,
   "id": "0980ada1",
   "metadata": {
    "deletable": false,
    "id": "0980ada1"
   },
   "outputs": [],
   "source": [
    "data['total_income_category'] = data['total_income'].apply(categorize_income)"
   ]
  },
  {
   "cell_type": "markdown",
   "id": "9917bba0",
   "metadata": {
    "deletable": false,
    "editable": false,
    "id": "9917bba0"
   },
   "source": [
    "**Задание 17. Выведите на экран перечень уникальных целей взятия кредита из столбца `purpose`.**"
   ]
  },
  {
   "cell_type": "code",
   "execution_count": 19,
   "id": "ee07b65e",
   "metadata": {
    "deletable": false,
    "id": "ee07b65e",
    "outputId": "673c12d9-7d7e-4ae0-9812-c622c89dd244"
   },
   "outputs": [
    {
     "data": {
      "text/plain": [
       "array(['покупка жилья', 'приобретение автомобиля',\n",
       "       'дополнительное образование', 'сыграть свадьбу',\n",
       "       'операции с жильем', 'образование', 'на проведение свадьбы',\n",
       "       'покупка жилья для семьи', 'покупка недвижимости',\n",
       "       'покупка коммерческой недвижимости', 'покупка жилой недвижимости',\n",
       "       'строительство собственной недвижимости', 'недвижимость',\n",
       "       'строительство недвижимости', 'на покупку подержанного автомобиля',\n",
       "       'на покупку своего автомобиля',\n",
       "       'операции с коммерческой недвижимостью',\n",
       "       'строительство жилой недвижимости', 'жилье',\n",
       "       'операции со своей недвижимостью', 'автомобили',\n",
       "       'заняться образованием', 'сделка с подержанным автомобилем',\n",
       "       'получение образования', 'автомобиль', 'свадьба',\n",
       "       'получение дополнительного образования', 'покупка своего жилья',\n",
       "       'операции с недвижимостью', 'получение высшего образования',\n",
       "       'свой автомобиль', 'сделка с автомобилем',\n",
       "       'профильное образование', 'высшее образование',\n",
       "       'покупка жилья для сдачи', 'на покупку автомобиля', 'ремонт жилью',\n",
       "       'заняться высшим образованием'], dtype=object)"
      ]
     },
     "execution_count": 19,
     "metadata": {},
     "output_type": "execute_result"
    }
   ],
   "source": [
    "data['purpose'].unique()"
   ]
  },
  {
   "cell_type": "markdown",
   "id": "52b79d56",
   "metadata": {
    "deletable": false,
    "editable": false,
    "id": "52b79d56"
   },
   "source": [
    "**Задание 18. Создайте функцию, которая на основании данных из столбца `purpose` сформирует новый столбец `purpose_category`, в который войдут следующие категории:**\n",
    "\n",
    "- `'операции с автомобилем'`,\n",
    "- `'операции с недвижимостью'`,\n",
    "- `'проведение свадьбы'`,\n",
    "- `'получение образования'`.\n",
    "\n",
    "**Например, если в столбце `purpose` находится подстрока `'на покупку автомобиля'`, то в столбце `purpose_category` должна появиться строка `'операции с автомобилем'`.**\n",
    "\n",
    "**Используйте собственную функцию с именем `categorize_purpose()` и метод `apply()`. Изучите данные в столбце `purpose` и определите, какие подстроки помогут вам правильно определить категорию.**"
   ]
  },
  {
   "cell_type": "code",
   "execution_count": 20,
   "id": "be41da5d",
   "metadata": {
    "deletable": false,
    "id": "be41da5d"
   },
   "outputs": [],
   "source": [
    "def categorize_purpose(row):\n",
    "    try:\n",
    "        if 'автом' in row:\n",
    "            return 'операции с автомобилем'\n",
    "        elif 'жил' in row or 'недвиж' in row:\n",
    "            return 'операции с недвижимостью'\n",
    "        elif 'свад' in row:\n",
    "            return 'проведение свадьбы'\n",
    "        elif 'образов' in row:\n",
    "            return 'получение образования'\n",
    "    except:\n",
    "        return 'нет категории'"
   ]
  },
  {
   "cell_type": "code",
   "execution_count": 21,
   "id": "94c4a19a",
   "metadata": {
    "deletable": false,
    "id": "94c4a19a"
   },
   "outputs": [],
   "source": [
    "data['purpose_category'] = data['purpose'].apply(categorize_purpose)"
   ]
  },
  {
   "cell_type": "markdown",
   "id": "3d596c34",
   "metadata": {
    "deletable": false,
    "editable": false,
    "id": "3d596c34"
   },
   "source": [
    "### Шаг 3. Исследуйте данные и ответьте на вопросы"
   ]
  },
  {
   "cell_type": "markdown",
   "id": "648db036",
   "metadata": {
    "deletable": false,
    "editable": false,
    "id": "648db036"
   },
   "source": [
    "#### 3.1 Есть ли зависимость между количеством детей и возвратом кредита в срок?"
   ]
  },
  {
   "cell_type": "markdown",
   "id": "ecc0b14e",
   "metadata": {},
   "source": [
    " **Найдем общее соотношения по клиентам, которые имели задолженность по возврату кредитов, сохраним его в переменную `total_ratio`**"
   ]
  },
  {
   "cell_type": "code",
   "execution_count": 22,
   "id": "7fcff25e",
   "metadata": {
    "deletable": false,
    "id": "7fcff25e",
    "scrolled": false
   },
   "outputs": [],
   "source": [
    "total_ratio = data['debt'].sum() / data['debt'].count()"
   ]
  },
  {
   "cell_type": "markdown",
   "id": "5c7967cd",
   "metadata": {},
   "source": [
    "**Выведем ее на экран**"
   ]
  },
  {
   "cell_type": "code",
   "execution_count": 23,
   "id": "d747dc86",
   "metadata": {},
   "outputs": [
    {
     "data": {
      "text/plain": [
       "0.08119638085415593"
      ]
     },
     "execution_count": 23,
     "metadata": {},
     "output_type": "execute_result"
    }
   ],
   "source": [
    "total_ratio"
   ]
  },
  {
   "cell_type": "markdown",
   "id": "847a3cba",
   "metadata": {},
   "source": [
    "**Исходя из данных общей таблицы мы видим, что 8.1% клиентов имели задолженность по возврату кредитов. \n",
    "Эти данные, я считаю, нам понадобятся для сравнения.**"
   ]
  },
  {
   "cell_type": "markdown",
   "id": "93d63c8c",
   "metadata": {},
   "source": [
    "**Посчитаем общее количество клиентов и количество клиентов, которые имели задолжность по возврату кредитов, сгрупировав их по количеству детей у клиентов , сохраним результат в переменную `children_debt_grouped`**"
   ]
  },
  {
   "cell_type": "code",
   "execution_count": 24,
   "id": "c98d15e8",
   "metadata": {},
   "outputs": [],
   "source": [
    "children_debt_grouped = data.groupby('children').agg({'debt': ['count', 'sum']})"
   ]
  },
  {
   "cell_type": "markdown",
   "id": "cab54e96",
   "metadata": {},
   "source": [
    "**Добавим новый стоблец `ratio`, который посчитает соотношение в этой таблице**"
   ]
  },
  {
   "cell_type": "code",
   "execution_count": 25,
   "id": "a1bf07a5",
   "metadata": {},
   "outputs": [],
   "source": [
    "children_debt_grouped['ratio'] = children_debt_grouped['debt']['sum']/children_debt_grouped['debt']['count']"
   ]
  },
  {
   "cell_type": "markdown",
   "id": "bdf3c73d",
   "metadata": {},
   "source": [
    "<div class=\"alert alert-warning\">\n",
    "<h2> Комментарий ревьюера 🤓 <a class=\"tocSkip\"> </h2>\n",
    "\n",
    "Столбец 'conversion' можно еще рассчитать как среднее (`mean`), это и будет наша доля должников по каждой категории. И это не конверсия, более подходящим будет `ratio`."
   ]
  },
  {
   "cell_type": "markdown",
   "id": "069d721b",
   "metadata": {},
   "source": [
    "**Выведем полученную таблицу на экран**"
   ]
  },
  {
   "cell_type": "code",
   "execution_count": 26,
   "id": "78875e1d",
   "metadata": {},
   "outputs": [
    {
     "data": {
      "text/html": [
       "<div>\n",
       "<style scoped>\n",
       "    .dataframe tbody tr th:only-of-type {\n",
       "        vertical-align: middle;\n",
       "    }\n",
       "\n",
       "    .dataframe tbody tr th {\n",
       "        vertical-align: top;\n",
       "    }\n",
       "\n",
       "    .dataframe thead tr th {\n",
       "        text-align: left;\n",
       "    }\n",
       "\n",
       "    .dataframe thead tr:last-of-type th {\n",
       "        text-align: right;\n",
       "    }\n",
       "</style>\n",
       "<table border=\"1\" class=\"dataframe\">\n",
       "  <thead>\n",
       "    <tr>\n",
       "      <th></th>\n",
       "      <th colspan=\"2\" halign=\"left\">debt</th>\n",
       "      <th>ratio</th>\n",
       "    </tr>\n",
       "    <tr>\n",
       "      <th></th>\n",
       "      <th>count</th>\n",
       "      <th>sum</th>\n",
       "      <th></th>\n",
       "    </tr>\n",
       "    <tr>\n",
       "      <th>children</th>\n",
       "      <th></th>\n",
       "      <th></th>\n",
       "      <th></th>\n",
       "    </tr>\n",
       "  </thead>\n",
       "  <tbody>\n",
       "    <tr>\n",
       "      <th>0</th>\n",
       "      <td>14091</td>\n",
       "      <td>1063</td>\n",
       "      <td>0.075438</td>\n",
       "    </tr>\n",
       "    <tr>\n",
       "      <th>1</th>\n",
       "      <td>4808</td>\n",
       "      <td>444</td>\n",
       "      <td>0.092346</td>\n",
       "    </tr>\n",
       "    <tr>\n",
       "      <th>2</th>\n",
       "      <td>2052</td>\n",
       "      <td>194</td>\n",
       "      <td>0.094542</td>\n",
       "    </tr>\n",
       "    <tr>\n",
       "      <th>3</th>\n",
       "      <td>330</td>\n",
       "      <td>27</td>\n",
       "      <td>0.081818</td>\n",
       "    </tr>\n",
       "    <tr>\n",
       "      <th>4</th>\n",
       "      <td>41</td>\n",
       "      <td>4</td>\n",
       "      <td>0.097561</td>\n",
       "    </tr>\n",
       "    <tr>\n",
       "      <th>5</th>\n",
       "      <td>9</td>\n",
       "      <td>0</td>\n",
       "      <td>0.000000</td>\n",
       "    </tr>\n",
       "  </tbody>\n",
       "</table>\n",
       "</div>"
      ],
      "text/plain": [
       "           debt           ratio\n",
       "          count   sum          \n",
       "children                       \n",
       "0         14091  1063  0.075438\n",
       "1          4808   444  0.092346\n",
       "2          2052   194  0.094542\n",
       "3           330    27  0.081818\n",
       "4            41     4  0.097561\n",
       "5             9     0  0.000000"
      ]
     },
     "execution_count": 26,
     "metadata": {},
     "output_type": "execute_result"
    }
   ],
   "source": [
    "children_debt_grouped"
   ]
  },
  {
   "cell_type": "markdown",
   "id": "ce3a4666",
   "metadata": {},
   "source": [
    "<div class=\"alert alert-success\">\n",
    "<h2> Комментарий ревьюера 😊<a class=\"tocSkip\"> </h2>\n",
    "\n",
    "Хорошая работа со сводной таблицей)"
   ]
  },
  {
   "cell_type": "markdown",
   "id": "2eb9088e",
   "metadata": {
    "deletable": false,
    "id": "2eb9088e"
   },
   "source": [
    "*Из таблицы мы видим, что самая большая часть клиентов не имеет детей, меньше клиентов имеет одного ребенка или двух, этих клиентов мы и рассмотрим для общего представления. Мы уже знаем, что 8,1% всех клиентов имели задолженность, а клиентов, у которых нет детей, всего 7,5%. Это говорит о том, что такие клиенты лучше возвращают кредиты в срок. Если мы посмотрим на клиентов с одним ребенком, то увидим, что 9,2% таких клиентов имели задолженность, а 9,4% таких клиентов имеют двух детей. Это говорит о том, что такие клиенты хуже возвращают кредиты в срок.*"
   ]
  },
  {
   "cell_type": "markdown",
   "id": "6813cbeb",
   "metadata": {},
   "source": [
    "**Вывод: Расмотрев соотношения разных групп клиентов можно придти к выводу, что чем больше у клиентов детей, тем хуже он вылачивает кредиты в срок.** "
   ]
  },
  {
   "cell_type": "markdown",
   "id": "7c160eb6",
   "metadata": {},
   "source": [
    "<div class=\"alert alert-block alert-danger\">\n",
    "<h2> Комментарий ревьюера ⛔️<a class=\"tocSkip\"></h2>\n",
    "<s>\n",
    "Все-таки можем отметить общую тенденцию, если рассмотреть самые многочисленные выборки с 0, 1 и 2-мя детьми - можно увидеть, что чем больше у заемщика детей, тем он хуже платит в срок. "
   ]
  },
  {
   "cell_type": "markdown",
   "id": "aa6304c1",
   "metadata": {},
   "source": [
    "<div class=\"alert alert-success\">\n",
    "<h2> Комментарий ревьюера 😊 v_2 <a class=\"tocSkip\"> </h2>\n",
    "\n",
    "👍"
   ]
  },
  {
   "cell_type": "markdown",
   "id": "74c9b3a7",
   "metadata": {
    "deletable": false,
    "editable": false,
    "id": "74c9b3a7"
   },
   "source": [
    "#### 3.2 Есть ли зависимость между семейным положением и возвратом кредита в срок?"
   ]
  },
  {
   "cell_type": "markdown",
   "id": "180b6d6d",
   "metadata": {},
   "source": [
    "**Посчитаем общее количество клиентов и количество клиентов, которые имели задолженность по возврату кредитов, сгрупировав их по семейному положению, сохраним результат в переменную `family_debt_grouped`**"
   ]
  },
  {
   "cell_type": "code",
   "execution_count": 27,
   "id": "8098ab3b",
   "metadata": {
    "deletable": false,
    "id": "8098ab3b"
   },
   "outputs": [],
   "source": [
    "family_debt_grouped = data.groupby('family_status').agg({'debt': ['count', 'sum']}) # Ваш код будет здесь. Вы можете создавать новые ячейки."
   ]
  },
  {
   "cell_type": "markdown",
   "id": "4da147a0",
   "metadata": {},
   "source": [
    "**Добавим новый стоблец `ratio`, который посчитает соотношение в этой таблице**"
   ]
  },
  {
   "cell_type": "code",
   "execution_count": 28,
   "id": "ff53ad54",
   "metadata": {},
   "outputs": [],
   "source": [
    "family_debt_grouped['ratio'] = family_debt_grouped['debt']['sum']/family_debt_grouped['debt']['count']"
   ]
  },
  {
   "cell_type": "markdown",
   "id": "147b7921",
   "metadata": {},
   "source": [
    "**Выведем полученную таблицу на экран**"
   ]
  },
  {
   "cell_type": "code",
   "execution_count": 29,
   "id": "78587c76",
   "metadata": {},
   "outputs": [
    {
     "data": {
      "text/html": [
       "<div>\n",
       "<style scoped>\n",
       "    .dataframe tbody tr th:only-of-type {\n",
       "        vertical-align: middle;\n",
       "    }\n",
       "\n",
       "    .dataframe tbody tr th {\n",
       "        vertical-align: top;\n",
       "    }\n",
       "\n",
       "    .dataframe thead tr th {\n",
       "        text-align: left;\n",
       "    }\n",
       "\n",
       "    .dataframe thead tr:last-of-type th {\n",
       "        text-align: right;\n",
       "    }\n",
       "</style>\n",
       "<table border=\"1\" class=\"dataframe\">\n",
       "  <thead>\n",
       "    <tr>\n",
       "      <th></th>\n",
       "      <th colspan=\"2\" halign=\"left\">debt</th>\n",
       "      <th>ratio</th>\n",
       "    </tr>\n",
       "    <tr>\n",
       "      <th></th>\n",
       "      <th>count</th>\n",
       "      <th>sum</th>\n",
       "      <th></th>\n",
       "    </tr>\n",
       "    <tr>\n",
       "      <th>family_status</th>\n",
       "      <th></th>\n",
       "      <th></th>\n",
       "      <th></th>\n",
       "    </tr>\n",
       "  </thead>\n",
       "  <tbody>\n",
       "    <tr>\n",
       "      <th>Не женат / не замужем</th>\n",
       "      <td>2796</td>\n",
       "      <td>273</td>\n",
       "      <td>0.097639</td>\n",
       "    </tr>\n",
       "    <tr>\n",
       "      <th>в разводе</th>\n",
       "      <td>1189</td>\n",
       "      <td>84</td>\n",
       "      <td>0.070648</td>\n",
       "    </tr>\n",
       "    <tr>\n",
       "      <th>вдовец / вдова</th>\n",
       "      <td>951</td>\n",
       "      <td>63</td>\n",
       "      <td>0.066246</td>\n",
       "    </tr>\n",
       "    <tr>\n",
       "      <th>гражданский брак</th>\n",
       "      <td>4134</td>\n",
       "      <td>385</td>\n",
       "      <td>0.093130</td>\n",
       "    </tr>\n",
       "    <tr>\n",
       "      <th>женат / замужем</th>\n",
       "      <td>12261</td>\n",
       "      <td>927</td>\n",
       "      <td>0.075606</td>\n",
       "    </tr>\n",
       "  </tbody>\n",
       "</table>\n",
       "</div>"
      ],
      "text/plain": [
       "                        debt          ratio\n",
       "                       count  sum          \n",
       "family_status                              \n",
       "Не женат / не замужем   2796  273  0.097639\n",
       "в разводе               1189   84  0.070648\n",
       "вдовец / вдова           951   63  0.066246\n",
       "гражданский брак        4134  385  0.093130\n",
       "женат / замужем        12261  927  0.075606"
      ]
     },
     "execution_count": 29,
     "metadata": {},
     "output_type": "execute_result"
    }
   ],
   "source": [
    "family_debt_grouped"
   ]
  },
  {
   "cell_type": "markdown",
   "id": "c389ca63",
   "metadata": {
    "deletable": false,
    "id": "c389ca63"
   },
   "source": [
    "*Из таблицы видим, что клиентов можно поделить условно на две группы состоявшие в официальном браке `Женат / замужем` и те кто  `Не женат / не замужем` для сравнения*"
   ]
  },
  {
   "cell_type": "markdown",
   "id": "c9ee0549",
   "metadata": {},
   "source": [
    "<div class=\"alert alert-block alert-danger\">\n",
    "<h2> Комментарий ревьюера ⛔️<a class=\"tocSkip\"></h2>\n",
    "<s>\n",
    "Взаимосвязь есть, можно сравнить объединив категории в зависимости от того состоит/состоял в оф. браке и тех кто не женат/в гражданском браке. "
   ]
  },
  {
   "cell_type": "markdown",
   "id": "fbc55f17",
   "metadata": {},
   "source": [
    "<div class=\"alert alert-info\"> <b>Комментарий студента:</b> Я понял твою мысль, но считаю, что клиентов можно объеденить по факту женат (замужем) он или не женат (не замужем). Если он вдовец (вдова), он ведь не женат (не замужем), а если клиент в гражданском браке, он женат (замужем) только не оффициально.</div>`"
   ]
  },
  {
   "cell_type": "markdown",
   "id": "db77b004",
   "metadata": {},
   "source": [
    "<div class=\"alert alert-block alert-danger\">\n",
    "<h2> Комментарий ревьюера ⛔️ v_2 <a class=\"tocSkip\"> </h2>\n",
    "<s>\n",
    "Здесь больше играет роль возраст заемщиков, что влияет на результаты. По ним получится большая разница. Для гражданского брака и не женатых более молодые заемщики характерны, которые и склонны к задержкам. Поэтому давай скорректируем и обновим вывод. "
   ]
  },
  {
   "cell_type": "markdown",
   "id": "a637a44c",
   "metadata": {},
   "source": [
    "<div class=\"alert alert-info\"> <b>Комментарий студента:</b> Хорошо, теперь понял. </div>`"
   ]
  },
  {
   "cell_type": "markdown",
   "id": "9075737f",
   "metadata": {},
   "source": [
    "<div class=\"alert alert-success\">\n",
    "<h2> Комментарий ревьюера 😊 v_3 <a class=\"tocSkip\"> </h2>\n",
    "\n",
    "Супер, согласись разница стала значительнее)"
   ]
  },
  {
   "cell_type": "markdown",
   "id": "bcbb5e87",
   "metadata": {},
   "source": [
    "**Объеденим группы `в разводе`, `вдовец / вдова` и `женат / замужем`, а так же `гражданский брак` и `Не женат / не замужем`**"
   ]
  },
  {
   "cell_type": "code",
   "execution_count": 30,
   "id": "ccf3abd7",
   "metadata": {},
   "outputs": [],
   "source": [
    "data.loc[data['family_status'] == 'в разводе', 'family_status'] = 'женат / замужем'"
   ]
  },
  {
   "cell_type": "code",
   "execution_count": 31,
   "id": "6e161742",
   "metadata": {},
   "outputs": [],
   "source": [
    "data.loc[data['family_status'] == 'вдовец / вдова', 'family_status'] = 'женат / замужем'"
   ]
  },
  {
   "cell_type": "code",
   "execution_count": 32,
   "id": "dae74f8a",
   "metadata": {},
   "outputs": [],
   "source": [
    "data.loc[data['family_status'] == 'гражданский брак', 'family_status'] = 'Не женат / не замужем'"
   ]
  },
  {
   "cell_type": "markdown",
   "id": "2d0589bd",
   "metadata": {},
   "source": [
    "**Так же сгруппируем клиентов и добавим новый столбец `ratio`** "
   ]
  },
  {
   "cell_type": "code",
   "execution_count": 33,
   "id": "e59e55da",
   "metadata": {},
   "outputs": [],
   "source": [
    "family_debt_grouped = data.groupby('family_status').agg({'debt': ['count', 'sum']})"
   ]
  },
  {
   "cell_type": "code",
   "execution_count": 34,
   "id": "cfd236ad",
   "metadata": {},
   "outputs": [],
   "source": [
    "family_debt_grouped['ratio'] = family_debt_grouped['debt']['sum']/family_debt_grouped['debt']['count']"
   ]
  },
  {
   "cell_type": "code",
   "execution_count": 35,
   "id": "b374e2e6",
   "metadata": {
    "scrolled": true
   },
   "outputs": [
    {
     "data": {
      "text/html": [
       "<div>\n",
       "<style scoped>\n",
       "    .dataframe tbody tr th:only-of-type {\n",
       "        vertical-align: middle;\n",
       "    }\n",
       "\n",
       "    .dataframe tbody tr th {\n",
       "        vertical-align: top;\n",
       "    }\n",
       "\n",
       "    .dataframe thead tr th {\n",
       "        text-align: left;\n",
       "    }\n",
       "\n",
       "    .dataframe thead tr:last-of-type th {\n",
       "        text-align: right;\n",
       "    }\n",
       "</style>\n",
       "<table border=\"1\" class=\"dataframe\">\n",
       "  <thead>\n",
       "    <tr>\n",
       "      <th></th>\n",
       "      <th colspan=\"2\" halign=\"left\">debt</th>\n",
       "      <th>ratio</th>\n",
       "    </tr>\n",
       "    <tr>\n",
       "      <th></th>\n",
       "      <th>count</th>\n",
       "      <th>sum</th>\n",
       "      <th></th>\n",
       "    </tr>\n",
       "    <tr>\n",
       "      <th>family_status</th>\n",
       "      <th></th>\n",
       "      <th></th>\n",
       "      <th></th>\n",
       "    </tr>\n",
       "  </thead>\n",
       "  <tbody>\n",
       "    <tr>\n",
       "      <th>Не женат / не замужем</th>\n",
       "      <td>6930</td>\n",
       "      <td>658</td>\n",
       "      <td>0.094949</td>\n",
       "    </tr>\n",
       "    <tr>\n",
       "      <th>женат / замужем</th>\n",
       "      <td>14401</td>\n",
       "      <td>1074</td>\n",
       "      <td>0.074578</td>\n",
       "    </tr>\n",
       "  </tbody>\n",
       "</table>\n",
       "</div>"
      ],
      "text/plain": [
       "                        debt           ratio\n",
       "                       count   sum          \n",
       "family_status                               \n",
       "Не женат / не замужем   6930   658  0.094949\n",
       "женат / замужем        14401  1074  0.074578"
      ]
     },
     "execution_count": 35,
     "metadata": {},
     "output_type": "execute_result"
    }
   ],
   "source": [
    "family_debt_grouped "
   ]
  },
  {
   "cell_type": "markdown",
   "id": "66f367ba",
   "metadata": {},
   "source": [
    "*В новой таблице мы видим, что 7,4% клиентов, которые имели задолженность по выплате кредитов, имеют статус 'женат / замужем' и это меньше чем среднее значение 8,1%, а 9,4% таких клиентов имеют статус 'Не женат / не замужем', что на порядок больше среднего значения.*"
   ]
  },
  {
   "cell_type": "markdown",
   "id": "a0528665",
   "metadata": {},
   "source": [
    "**Вывод: Из этого можно сделать вывод, что клиенты женатые или замужем лучше выплачивают кредиты в срок, нежели клиенты не женатые или не замужние.**"
   ]
  },
  {
   "cell_type": "markdown",
   "id": "9529de68",
   "metadata": {
    "deletable": false,
    "editable": false,
    "id": "9529de68"
   },
   "source": [
    "#### 3.3 Есть ли зависимость между уровнем дохода и возвратом кредита в срок?"
   ]
  },
  {
   "cell_type": "markdown",
   "id": "8aeb4c64",
   "metadata": {},
   "source": [
    "**Посчитаем общее количество клиентов и количество клиентов, которые имели задолженность по возврату кредитов, сгрупировав их по категории уровня дохода, сохраним результат в переменную `total_income_debt_grouped`**"
   ]
  },
  {
   "cell_type": "code",
   "execution_count": 36,
   "id": "8787f44a",
   "metadata": {
    "deletable": false,
    "id": "8787f44a"
   },
   "outputs": [],
   "source": [
    "total_income_debt_grouped = data.groupby('total_income_category').agg({'debt': ['count', 'sum']}) # Ваш код будет здесь. Вы можете создавать новые ячейки."
   ]
  },
  {
   "cell_type": "markdown",
   "id": "a36d245a",
   "metadata": {},
   "source": [
    "**Добавим новый стоблец `ratio`, который посчитает соотношение в этой таблице**"
   ]
  },
  {
   "cell_type": "code",
   "execution_count": 37,
   "id": "cb41ab94",
   "metadata": {},
   "outputs": [],
   "source": [
    "total_income_debt_grouped['ratio'] = total_income_debt_grouped['debt']['sum']/total_income_debt_grouped['debt']['count']"
   ]
  },
  {
   "cell_type": "markdown",
   "id": "23f4625a",
   "metadata": {},
   "source": [
    "**Выведем полученную таблицу на экран**"
   ]
  },
  {
   "cell_type": "code",
   "execution_count": 38,
   "id": "cf71d7ff",
   "metadata": {},
   "outputs": [
    {
     "data": {
      "text/html": [
       "<div>\n",
       "<style scoped>\n",
       "    .dataframe tbody tr th:only-of-type {\n",
       "        vertical-align: middle;\n",
       "    }\n",
       "\n",
       "    .dataframe tbody tr th {\n",
       "        vertical-align: top;\n",
       "    }\n",
       "\n",
       "    .dataframe thead tr th {\n",
       "        text-align: left;\n",
       "    }\n",
       "\n",
       "    .dataframe thead tr:last-of-type th {\n",
       "        text-align: right;\n",
       "    }\n",
       "</style>\n",
       "<table border=\"1\" class=\"dataframe\">\n",
       "  <thead>\n",
       "    <tr>\n",
       "      <th></th>\n",
       "      <th colspan=\"2\" halign=\"left\">debt</th>\n",
       "      <th>ratio</th>\n",
       "    </tr>\n",
       "    <tr>\n",
       "      <th></th>\n",
       "      <th>count</th>\n",
       "      <th>sum</th>\n",
       "      <th></th>\n",
       "    </tr>\n",
       "    <tr>\n",
       "      <th>total_income_category</th>\n",
       "      <th></th>\n",
       "      <th></th>\n",
       "      <th></th>\n",
       "    </tr>\n",
       "  </thead>\n",
       "  <tbody>\n",
       "    <tr>\n",
       "      <th>A</th>\n",
       "      <td>25</td>\n",
       "      <td>2</td>\n",
       "      <td>0.080000</td>\n",
       "    </tr>\n",
       "    <tr>\n",
       "      <th>B</th>\n",
       "      <td>5014</td>\n",
       "      <td>354</td>\n",
       "      <td>0.070602</td>\n",
       "    </tr>\n",
       "    <tr>\n",
       "      <th>C</th>\n",
       "      <td>15921</td>\n",
       "      <td>1353</td>\n",
       "      <td>0.084982</td>\n",
       "    </tr>\n",
       "    <tr>\n",
       "      <th>D</th>\n",
       "      <td>349</td>\n",
       "      <td>21</td>\n",
       "      <td>0.060172</td>\n",
       "    </tr>\n",
       "    <tr>\n",
       "      <th>E</th>\n",
       "      <td>22</td>\n",
       "      <td>2</td>\n",
       "      <td>0.090909</td>\n",
       "    </tr>\n",
       "  </tbody>\n",
       "</table>\n",
       "</div>"
      ],
      "text/plain": [
       "                        debt           ratio\n",
       "                       count   sum          \n",
       "total_income_category                       \n",
       "A                         25     2  0.080000\n",
       "B                       5014   354  0.070602\n",
       "C                      15921  1353  0.084982\n",
       "D                        349    21  0.060172\n",
       "E                         22     2  0.090909"
      ]
     },
     "execution_count": 38,
     "metadata": {},
     "output_type": "execute_result"
    }
   ],
   "source": [
    "total_income_debt_grouped"
   ]
  },
  {
   "cell_type": "markdown",
   "id": "9fefa10a",
   "metadata": {},
   "source": [
    "*Из полученной таблицы видим, что количество заемщиков в категории 'В' и 'С' намного больше, чем в остальных. Сравним полученные данные именно в этой категории.*"
   ]
  },
  {
   "cell_type": "markdown",
   "id": "154937b9",
   "metadata": {},
   "source": [
    "*Всего 7% клиентов категории 'В' имели задолженность по выплает кредитов, а 8,4% таких клиентов из категории 'С'. Мы уже знаем, что средний показатель по всем клиентам у нас 8,1%, из этого можно сделать вывод.*"
   ]
  },
  {
   "cell_type": "markdown",
   "id": "6dd14b57",
   "metadata": {
    "deletable": false,
    "id": "6dd14b57"
   },
   "source": [
    "**Вывод: Клиенты имеющие доход более 200 тысяч лучше возвращают кредиты в срок, нежели клиенты имеющие доход от 50 до 200 тысяч.** "
   ]
  },
  {
   "cell_type": "markdown",
   "id": "f8302e73",
   "metadata": {},
   "source": [
    "<div class=\"alert alert-block alert-danger\">\n",
    "<h2> Комментарий ревьюера ⛔️<a class=\"tocSkip\"></h2>\n",
    "<s>\n",
    "В данном примере количество заемщиков во всех категориях кроме B и C несопоставимо меньше, поэтому для выявления зависимости имеет смысл сравнивать только их."
   ]
  },
  {
   "cell_type": "markdown",
   "id": "aa635e75",
   "metadata": {},
   "source": [
    "<div class=\"alert alert-info\"> <b>Комментарий студента:</b> Тут я так понимаю тоже все хорошо. 😊 </div>`"
   ]
  },
  {
   "cell_type": "markdown",
   "id": "86178ef1",
   "metadata": {},
   "source": [
    "<div class=\"alert alert-success\">\n",
    "<h2> Комментарий ревьюера 😊 v_2 <a class=\"tocSkip\"> </h2>\n",
    "\n",
    "Да, все верно)"
   ]
  },
  {
   "cell_type": "markdown",
   "id": "1dcc9b12",
   "metadata": {
    "deletable": false,
    "editable": false,
    "id": "1dcc9b12"
   },
   "source": [
    "#### 3.4 Как разные цели кредита влияют на его возврат в срок?"
   ]
  },
  {
   "cell_type": "markdown",
   "id": "a0b61a9a",
   "metadata": {},
   "source": [
    "**Посчитаем общее количество клиентов и количество клиентов, которые имели задолженность по возврату кредитов, сгрупировав их по категории цели получения кредита, сохраним результат в переменную `purpose_category_debt_grouped`**"
   ]
  },
  {
   "cell_type": "code",
   "execution_count": 39,
   "id": "c602bc8b",
   "metadata": {
    "deletable": false,
    "id": "c602bc8b"
   },
   "outputs": [],
   "source": [
    "purpose_category_debt_grouped = data.groupby('purpose_category').agg({'debt': ['count', 'sum']}) # Ваш код будет здесь. Вы можете создавать новые ячейки."
   ]
  },
  {
   "cell_type": "markdown",
   "id": "00766ac0",
   "metadata": {},
   "source": [
    "**Добавим новый стоблец `ratio`, который посчитает соотношение в этой таблице**"
   ]
  },
  {
   "cell_type": "code",
   "execution_count": 40,
   "id": "b20dea36",
   "metadata": {},
   "outputs": [],
   "source": [
    "purpose_category_debt_grouped['ratio'] = purpose_category_debt_grouped['debt']['sum']/purpose_category_debt_grouped['debt']['count']"
   ]
  },
  {
   "cell_type": "markdown",
   "id": "3276e6df",
   "metadata": {},
   "source": [
    "**Выведем полученную таблицу на экран**"
   ]
  },
  {
   "cell_type": "code",
   "execution_count": 41,
   "id": "b006f613",
   "metadata": {},
   "outputs": [
    {
     "data": {
      "text/html": [
       "<div>\n",
       "<style scoped>\n",
       "    .dataframe tbody tr th:only-of-type {\n",
       "        vertical-align: middle;\n",
       "    }\n",
       "\n",
       "    .dataframe tbody tr th {\n",
       "        vertical-align: top;\n",
       "    }\n",
       "\n",
       "    .dataframe thead tr th {\n",
       "        text-align: left;\n",
       "    }\n",
       "\n",
       "    .dataframe thead tr:last-of-type th {\n",
       "        text-align: right;\n",
       "    }\n",
       "</style>\n",
       "<table border=\"1\" class=\"dataframe\">\n",
       "  <thead>\n",
       "    <tr>\n",
       "      <th></th>\n",
       "      <th colspan=\"2\" halign=\"left\">debt</th>\n",
       "      <th>ratio</th>\n",
       "    </tr>\n",
       "    <tr>\n",
       "      <th></th>\n",
       "      <th>count</th>\n",
       "      <th>sum</th>\n",
       "      <th></th>\n",
       "    </tr>\n",
       "    <tr>\n",
       "      <th>purpose_category</th>\n",
       "      <th></th>\n",
       "      <th></th>\n",
       "      <th></th>\n",
       "    </tr>\n",
       "  </thead>\n",
       "  <tbody>\n",
       "    <tr>\n",
       "      <th>операции с автомобилем</th>\n",
       "      <td>4279</td>\n",
       "      <td>400</td>\n",
       "      <td>0.093480</td>\n",
       "    </tr>\n",
       "    <tr>\n",
       "      <th>операции с недвижимостью</th>\n",
       "      <td>10751</td>\n",
       "      <td>780</td>\n",
       "      <td>0.072551</td>\n",
       "    </tr>\n",
       "    <tr>\n",
       "      <th>получение образования</th>\n",
       "      <td>3988</td>\n",
       "      <td>369</td>\n",
       "      <td>0.092528</td>\n",
       "    </tr>\n",
       "    <tr>\n",
       "      <th>проведение свадьбы</th>\n",
       "      <td>2313</td>\n",
       "      <td>183</td>\n",
       "      <td>0.079118</td>\n",
       "    </tr>\n",
       "  </tbody>\n",
       "</table>\n",
       "</div>"
      ],
      "text/plain": [
       "                           debt          ratio\n",
       "                          count  sum          \n",
       "purpose_category                              \n",
       "операции с автомобилем     4279  400  0.093480\n",
       "операции с недвижимостью  10751  780  0.072551\n",
       "получение образования      3988  369  0.092528\n",
       "проведение свадьбы         2313  183  0.079118"
      ]
     },
     "execution_count": 41,
     "metadata": {},
     "output_type": "execute_result"
    }
   ],
   "source": [
    "purpose_category_debt_grouped"
   ]
  },
  {
   "cell_type": "markdown",
   "id": "28942d40",
   "metadata": {},
   "source": [
    "*Из полученной таблицы видим, что 7,2% клиентов, которые имели задолженность по возврату кредитов, имеет группа 'операции с недвижимостью', 7,9% таких клиентов группы 'проведение свадьбы', 9,2% клиенты группы 'получение образования', а 9,3% клиенты группы 'операции с автомобилем'*"
   ]
  },
  {
   "cell_type": "markdown",
   "id": "cf05ed63",
   "metadata": {
    "deletable": false,
    "id": "cf05ed63"
   },
   "source": [
    "**Вывод: Из этого можно сделать вывод, что клиенты, которые обращаются в банк с целью 'Операции с автомобилем' или 'Получением образования' хуже выплачивают кредиты, чем клиенты обратившиеся с целью 'Операции с недвижимостью' или 'Проведением свадьбы'** "
   ]
  },
  {
   "cell_type": "markdown",
   "id": "2a719b7b",
   "metadata": {},
   "source": [
    "<div class=\"alert alert-block alert-danger\">\n",
    "<h2> Комментарий ревьюера ⛔️<a class=\"tocSkip\"></h2>\n",
    "<s>\n",
    "Разве показатели одинаковые по всем категориям?"
   ]
  },
  {
   "cell_type": "markdown",
   "id": "951e9bae",
   "metadata": {},
   "source": [
    "<div class=\"alert alert-success\">\n",
    "<h2> Комментарий ревьюера 😊 v_2 <a class=\"tocSkip\"> </h2>\n",
    "\n",
    "Теперь все отлично)"
   ]
  },
  {
   "cell_type": "markdown",
   "id": "46c1f10b",
   "metadata": {
    "deletable": false,
    "editable": false,
    "id": "46c1f10b"
   },
   "source": [
    "#### 3.5 Приведите возможные причины появления пропусков в исходных данных."
   ]
  },
  {
   "cell_type": "markdown",
   "id": "3697d2a9",
   "metadata": {
    "deletable": false,
    "id": "3697d2a9"
   },
   "source": [
    "*Ответ: Ошибки в сборе данных, технические проблемы при передачи или хранении, намеренное скрытие информации.* "
   ]
  },
  {
   "cell_type": "markdown",
   "id": "4806b80c",
   "metadata": {},
   "source": [
    "<div class=\"alert alert-warning\">\n",
    "<h2> Комментарий ревьюера 🤓<a class=\"tocSkip\"> </h2>\n",
    "\n",
    "Также возможно намеренное сокрытие информации"
   ]
  },
  {
   "cell_type": "markdown",
   "id": "3137d257",
   "metadata": {
    "deletable": false,
    "editable": false,
    "id": "3137d257"
   },
   "source": [
    "#### 3.6 Объясните, почему заполнить пропуски медианным значением — лучшее решение для количественных переменных."
   ]
  },
  {
   "cell_type": "markdown",
   "id": "cf40012a",
   "metadata": {
    "deletable": false,
    "id": "cf40012a"
   },
   "source": [
    "*Ответ: Заполнять пропуски лучше медианными значениями для количественных переменных, потому что медианные значения не так чувствительны к экстремальным значениям, например, большой доход у некоторых клиентов или маленький доход у категории \"пенсионер\".* "
   ]
  },
  {
   "cell_type": "markdown",
   "id": "42bac799",
   "metadata": {},
   "source": [
    "<div class=\"alert alert-success\">\n",
    "<h2> Комментарий ревьюера 😊<a class=\"tocSkip\"> </h2>\n",
    "\n",
    "Точно, медиана менее чувствительна к выбросам, чем среднее."
   ]
  },
  {
   "cell_type": "markdown",
   "id": "57bc304e",
   "metadata": {
    "deletable": false,
    "editable": false,
    "id": "57bc304e"
   },
   "source": [
    "### Шаг 4: общий вывод."
   ]
  },
  {
   "cell_type": "markdown",
   "id": "1ab75d1c",
   "metadata": {
    "deletable": false,
    "id": "1ab75d1c"
   },
   "source": [
    "***При анализе данных из таблице и построении дополнительных таблиц, мной было выяснено, что клиенты без детей лучше возвращают кредиты, нежели клиенты с одним или двумя детьми, так же женатые или замужние клиенты лучше выплачивают кредиты. Что касается дохода клиентов, лучше себя показывают клиенты с доходом более 200 тыс, а так же не мало важна и цель получения кредита.\n",
    "При работе с таблицей так же сталкнулись с пропусками в данных о даходах клиентов, а так же трудового стажа, что может в дальнейшем повлиять на данные и выводы к ним. Так же рекомендуем дополнить такблицу дополнительными данными, например, о средних расходах клиентов и суммах кредитов.***"
   ]
  },
  {
   "cell_type": "markdown",
   "id": "d34a1d8b",
   "metadata": {},
   "source": [
    "<div class=\"alert alert-warning\">\n",
    "<h2> Комментарий ревьюера 🤓 <a class=\"tocSkip\"> </h2>\n",
    "\n",
    "Общий вывод это главный итог твоей работы, то что мы можем предоставить нашему заказчику. Давай дополним его результатами твоей работы и основными выводами) Можно  начать общий вывод  с выявленных при ответе на вопросы зависимостей, а закончить  рекомендациями заказчику по улучшению сбора данных и скоринга. </div>"
   ]
  },
  {
   "cell_type": "markdown",
   "id": "59ab4faa",
   "metadata": {},
   "source": [
    "<div style=\"border:solid Purple 2px; padding: 40px\">\n",
    "\n",
    "<h2> Общий комментарий ревьюера 😊 v_3<a class=\"tocSkip\"> </h2>\n",
    "    <br/>\n",
    " Евгений, спасибо за проект! Успехов в дальнейшем обучении!)\n",
    "    "
   ]
  },
  {
   "cell_type": "markdown",
   "id": "e88f69ca",
   "metadata": {},
   "source": [
    "<div style=\"border:solid Purple 2px; padding: 40px\">\n",
    "\n",
    "<h2> Общий комментарий ревьюера 😊 v_2<a class=\"tocSkip\"> </h2>\n",
    "    <br/>\n",
    "    \n",
    "Осталось еще немного)"
   ]
  },
  {
   "cell_type": "markdown",
   "id": "21725a7c",
   "metadata": {},
   "source": [
    "<div style=\"border:solid Purple 2px; padding: 40px\">\n",
    "\n",
    "<h2> Общий комментарий ревьюера 😊<a class=\"tocSkip\"> </h2>\n",
    "    <br/>\n",
    "Ты проделал хорошую работу с таблицами, расчеты верные. Но нужно доработать выводы по ним) \n",
    " \n",
    "    \n",
    " \n",
    "**Желаю удачи и жду твой проект на повторное ревью! Если вдруг у тебя возникнут вопросы, то я с радостью отвечу на них.    😊**\n",
    "    "
   ]
  },
  {
   "cell_type": "code",
   "execution_count": null,
   "id": "8b7ac69d",
   "metadata": {},
   "outputs": [],
   "source": []
  }
 ],
 "metadata": {
  "ExecuteTimeLog": [
   {
    "duration": 477,
    "start_time": "2024-03-13T15:52:17.424Z"
   },
   {
    "duration": 21,
    "start_time": "2024-03-13T15:52:24.760Z"
   },
   {
    "duration": 16,
    "start_time": "2024-03-13T15:52:29.388Z"
   },
   {
    "duration": 10,
    "start_time": "2024-03-13T15:52:33.122Z"
   },
   {
    "duration": 34,
    "start_time": "2024-03-13T15:52:37.973Z"
   },
   {
    "duration": 4,
    "start_time": "2024-03-13T15:52:41.062Z"
   },
   {
    "duration": 7,
    "start_time": "2024-03-13T15:52:43.467Z"
   },
   {
    "duration": 5,
    "start_time": "2024-03-13T15:52:46.062Z"
   },
   {
    "duration": 7,
    "start_time": "2024-03-13T15:52:49.433Z"
   },
   {
    "duration": 4,
    "start_time": "2024-03-13T15:52:51.699Z"
   },
   {
    "duration": 4,
    "start_time": "2024-03-13T15:56:07.665Z"
   },
   {
    "duration": 6,
    "start_time": "2024-03-13T15:56:11.793Z"
   },
   {
    "duration": 5,
    "start_time": "2024-03-13T15:56:13.794Z"
   },
   {
    "duration": 35,
    "start_time": "2024-03-13T15:56:17.855Z"
   },
   {
    "duration": 9,
    "start_time": "2024-03-13T15:56:24.841Z"
   },
   {
    "duration": 3,
    "start_time": "2024-03-13T15:56:29.111Z"
   },
   {
    "duration": 12,
    "start_time": "2024-03-13T15:56:31.573Z"
   },
   {
    "duration": 18,
    "start_time": "2024-03-13T15:56:36.087Z"
   },
   {
    "duration": 17,
    "start_time": "2024-03-13T15:56:37.185Z"
   },
   {
    "duration": 4,
    "start_time": "2024-03-13T15:57:34.213Z"
   },
   {
    "duration": 10,
    "start_time": "2024-03-13T15:57:37.255Z"
   },
   {
    "duration": 5,
    "start_time": "2024-03-13T15:57:41.301Z"
   },
   {
    "duration": 3,
    "start_time": "2024-03-13T15:57:45.578Z"
   },
   {
    "duration": 9,
    "start_time": "2024-03-13T15:57:47.600Z"
   },
   {
    "duration": 5,
    "start_time": "2024-03-13T16:07:03.283Z"
   },
   {
    "duration": 60,
    "start_time": "2024-03-13T16:07:18.091Z"
   },
   {
    "duration": 4,
    "start_time": "2024-03-13T16:07:27.293Z"
   },
   {
    "duration": 4,
    "start_time": "2024-03-13T16:07:32.855Z"
   },
   {
    "duration": 7,
    "start_time": "2024-03-13T16:10:22.835Z"
   },
   {
    "duration": 6,
    "start_time": "2024-03-13T16:12:34.280Z"
   },
   {
    "duration": 4,
    "start_time": "2024-03-13T16:13:20.016Z"
   },
   {
    "duration": 468,
    "start_time": "2024-03-13T16:13:36.454Z"
   },
   {
    "duration": 20,
    "start_time": "2024-03-13T16:13:40.005Z"
   },
   {
    "duration": 15,
    "start_time": "2024-03-13T16:13:45.629Z"
   },
   {
    "duration": 12,
    "start_time": "2024-03-13T16:13:48.190Z"
   },
   {
    "duration": 35,
    "start_time": "2024-03-13T16:13:52.058Z"
   },
   {
    "duration": 3,
    "start_time": "2024-03-13T16:13:54.268Z"
   },
   {
    "duration": 7,
    "start_time": "2024-03-13T16:13:55.854Z"
   },
   {
    "duration": 4,
    "start_time": "2024-03-13T16:14:06.437Z"
   },
   {
    "duration": 6,
    "start_time": "2024-03-13T16:14:09.234Z"
   },
   {
    "duration": 4,
    "start_time": "2024-03-13T16:14:11.506Z"
   },
   {
    "duration": 33,
    "start_time": "2024-03-13T16:14:14.272Z"
   },
   {
    "duration": 10,
    "start_time": "2024-03-13T16:14:16.328Z"
   },
   {
    "duration": 4,
    "start_time": "2024-03-13T16:14:18.496Z"
   },
   {
    "duration": 12,
    "start_time": "2024-03-13T16:14:20.453Z"
   },
   {
    "duration": 21,
    "start_time": "2024-03-13T16:14:22.602Z"
   },
   {
    "duration": 17,
    "start_time": "2024-03-13T16:14:24.066Z"
   },
   {
    "duration": 4,
    "start_time": "2024-03-13T16:14:28.062Z"
   },
   {
    "duration": 11,
    "start_time": "2024-03-13T16:14:29.968Z"
   },
   {
    "duration": 6,
    "start_time": "2024-03-13T16:14:33.104Z"
   },
   {
    "duration": 4,
    "start_time": "2024-03-13T16:14:36.207Z"
   },
   {
    "duration": 9,
    "start_time": "2024-03-13T16:14:38.902Z"
   },
   {
    "duration": 4,
    "start_time": "2024-03-13T16:14:48.083Z"
   },
   {
    "duration": 5,
    "start_time": "2024-03-13T16:15:06.836Z"
   },
   {
    "duration": 63,
    "start_time": "2024-03-13T16:15:25.778Z"
   },
   {
    "duration": 9,
    "start_time": "2024-03-13T16:15:34.193Z"
   },
   {
    "duration": 6,
    "start_time": "2024-03-13T16:15:41.051Z"
   },
   {
    "duration": 5,
    "start_time": "2024-03-13T16:18:15.435Z"
   },
   {
    "duration": 6,
    "start_time": "2024-03-13T16:19:10.299Z"
   },
   {
    "duration": 21,
    "start_time": "2024-03-13T16:30:31.541Z"
   },
   {
    "duration": 16,
    "start_time": "2024-03-13T16:30:56.144Z"
   },
   {
    "duration": 13,
    "start_time": "2024-03-13T16:31:12.869Z"
   },
   {
    "duration": 13,
    "start_time": "2024-03-13T16:32:54.192Z"
   },
   {
    "duration": 12,
    "start_time": "2024-03-13T16:32:59.083Z"
   },
   {
    "duration": 11,
    "start_time": "2024-03-13T16:37:05.669Z"
   },
   {
    "duration": 14,
    "start_time": "2024-03-13T16:38:15.653Z"
   },
   {
    "duration": 11,
    "start_time": "2024-03-13T16:40:28.356Z"
   },
   {
    "duration": 14,
    "start_time": "2024-03-13T16:46:49.372Z"
   },
   {
    "duration": 11,
    "start_time": "2024-03-13T16:47:05.692Z"
   },
   {
    "duration": 8,
    "start_time": "2024-03-13T16:52:26.084Z"
   },
   {
    "duration": 11,
    "start_time": "2024-03-13T16:52:41.412Z"
   },
   {
    "duration": 1634,
    "start_time": "2024-03-13T16:53:03.292Z"
   },
   {
    "duration": 10,
    "start_time": "2024-03-13T16:53:13.403Z"
   },
   {
    "duration": 11,
    "start_time": "2024-03-13T16:53:47.781Z"
   },
   {
    "duration": 11,
    "start_time": "2024-03-13T16:53:59.723Z"
   },
   {
    "duration": 8,
    "start_time": "2024-03-13T16:55:56.324Z"
   },
   {
    "duration": 9,
    "start_time": "2024-03-13T16:56:03.772Z"
   },
   {
    "duration": 11,
    "start_time": "2024-03-13T17:08:19.651Z"
   },
   {
    "duration": 10,
    "start_time": "2024-03-13T17:08:36.339Z"
   },
   {
    "duration": 10,
    "start_time": "2024-03-13T17:08:44.224Z"
   },
   {
    "duration": 12,
    "start_time": "2024-03-13T17:10:57.330Z"
   },
   {
    "duration": 14,
    "start_time": "2024-03-13T17:11:04.690Z"
   },
   {
    "duration": 11,
    "start_time": "2024-03-13T17:11:09.913Z"
   },
   {
    "duration": 6,
    "start_time": "2024-03-13T17:11:20.771Z"
   },
   {
    "duration": 6,
    "start_time": "2024-03-13T17:11:36.571Z"
   },
   {
    "duration": 11,
    "start_time": "2024-03-13T17:12:12.052Z"
   },
   {
    "duration": 11,
    "start_time": "2024-03-13T17:12:16.770Z"
   },
   {
    "duration": 9,
    "start_time": "2024-03-13T17:18:54.682Z"
   },
   {
    "duration": 146,
    "start_time": "2024-03-13T17:22:54.591Z"
   },
   {
    "duration": 14,
    "start_time": "2024-03-13T17:23:01.562Z"
   },
   {
    "duration": 12,
    "start_time": "2024-03-13T17:30:24.090Z"
   },
   {
    "duration": 11,
    "start_time": "2024-03-13T17:30:33.794Z"
   },
   {
    "duration": 12,
    "start_time": "2024-03-13T17:30:50.306Z"
   },
   {
    "duration": 11,
    "start_time": "2024-03-13T17:31:28.689Z"
   },
   {
    "duration": 10,
    "start_time": "2024-03-13T17:31:50.329Z"
   },
   {
    "duration": 97,
    "start_time": "2024-03-13T17:32:43.981Z"
   },
   {
    "duration": 11,
    "start_time": "2024-03-13T17:33:02.121Z"
   },
   {
    "duration": 7,
    "start_time": "2024-03-13T17:35:02.432Z"
   },
   {
    "duration": 1493,
    "start_time": "2024-03-13T17:36:51.446Z"
   },
   {
    "duration": 6,
    "start_time": "2024-03-13T17:37:54.365Z"
   },
   {
    "duration": 1554,
    "start_time": "2024-03-13T17:38:15.461Z"
   },
   {
    "duration": 1627,
    "start_time": "2024-03-13T17:45:35.478Z"
   },
   {
    "duration": 10,
    "start_time": "2024-03-13T17:47:10.426Z"
   },
   {
    "duration": 6,
    "start_time": "2024-03-13T17:47:12.806Z"
   },
   {
    "duration": 7,
    "start_time": "2024-03-13T17:47:32.167Z"
   },
   {
    "duration": 6,
    "start_time": "2024-03-13T17:47:34.506Z"
   },
   {
    "duration": 15,
    "start_time": "2024-03-13T17:49:10.630Z"
   },
   {
    "duration": 22,
    "start_time": "2024-03-13T17:49:22.271Z"
   },
   {
    "duration": 14,
    "start_time": "2024-03-13T17:49:28.293Z"
   },
   {
    "duration": 13,
    "start_time": "2024-03-13T17:49:33.119Z"
   },
   {
    "duration": 14,
    "start_time": "2024-03-13T17:49:39.984Z"
   },
   {
    "duration": 4,
    "start_time": "2024-03-13T17:50:03.310Z"
   },
   {
    "duration": 4,
    "start_time": "2024-03-13T17:50:21.934Z"
   },
   {
    "duration": 70,
    "start_time": "2024-03-13T17:50:38.773Z"
   },
   {
    "duration": 464,
    "start_time": "2024-03-13T17:50:47.677Z"
   },
   {
    "duration": 21,
    "start_time": "2024-03-13T17:50:49.675Z"
   },
   {
    "duration": 14,
    "start_time": "2024-03-13T17:50:53.669Z"
   },
   {
    "duration": 11,
    "start_time": "2024-03-13T17:50:56.464Z"
   },
   {
    "duration": 34,
    "start_time": "2024-03-13T17:50:59.038Z"
   },
   {
    "duration": 3,
    "start_time": "2024-03-13T17:51:01.230Z"
   },
   {
    "duration": 8,
    "start_time": "2024-03-13T17:51:02.717Z"
   },
   {
    "duration": 7,
    "start_time": "2024-03-13T17:51:15.918Z"
   },
   {
    "duration": 4,
    "start_time": "2024-03-13T17:51:19.107Z"
   },
   {
    "duration": 7,
    "start_time": "2024-03-13T17:51:21.185Z"
   },
   {
    "duration": 4,
    "start_time": "2024-03-13T17:51:22.636Z"
   },
   {
    "duration": 4,
    "start_time": "2024-03-13T17:51:31.913Z"
   },
   {
    "duration": 34,
    "start_time": "2024-03-13T17:51:34.665Z"
   },
   {
    "duration": 10,
    "start_time": "2024-03-13T17:51:36.595Z"
   },
   {
    "duration": 3,
    "start_time": "2024-03-13T17:51:38.995Z"
   },
   {
    "duration": 11,
    "start_time": "2024-03-13T17:51:40.858Z"
   },
   {
    "duration": 18,
    "start_time": "2024-03-13T17:51:42.411Z"
   },
   {
    "duration": 16,
    "start_time": "2024-03-13T17:51:44.336Z"
   },
   {
    "duration": 4,
    "start_time": "2024-03-13T17:51:46.729Z"
   },
   {
    "duration": 11,
    "start_time": "2024-03-13T17:51:48.233Z"
   },
   {
    "duration": 5,
    "start_time": "2024-03-13T17:51:50.473Z"
   },
   {
    "duration": 4,
    "start_time": "2024-03-13T17:51:53.673Z"
   },
   {
    "duration": 8,
    "start_time": "2024-03-13T17:51:54.855Z"
   },
   {
    "duration": 7,
    "start_time": "2024-03-13T17:52:04.610Z"
   },
   {
    "duration": 5,
    "start_time": "2024-03-13T17:52:06.194Z"
   },
   {
    "duration": 5,
    "start_time": "2024-03-13T17:52:09.465Z"
   },
   {
    "duration": 6,
    "start_time": "2024-03-13T17:52:33.355Z"
   },
   {
    "duration": 5,
    "start_time": "2024-03-13T17:52:47.211Z"
   },
   {
    "duration": 6,
    "start_time": "2024-03-13T17:52:57.104Z"
   },
   {
    "duration": 6,
    "start_time": "2024-03-13T17:54:50.125Z"
   },
   {
    "duration": 7,
    "start_time": "2024-03-13T18:03:24.475Z"
   },
   {
    "duration": 6,
    "start_time": "2024-03-13T18:03:29.670Z"
   },
   {
    "duration": 7,
    "start_time": "2024-03-13T18:04:41.438Z"
   },
   {
    "duration": 8,
    "start_time": "2024-03-13T18:04:55.945Z"
   },
   {
    "duration": 8,
    "start_time": "2024-03-13T18:06:18.396Z"
   },
   {
    "duration": 7,
    "start_time": "2024-03-13T18:06:51.777Z"
   },
   {
    "duration": 7,
    "start_time": "2024-03-13T18:06:55.486Z"
   },
   {
    "duration": 5,
    "start_time": "2024-03-13T18:06:59.365Z"
   },
   {
    "duration": 8,
    "start_time": "2024-03-13T18:07:01.837Z"
   },
   {
    "duration": 7,
    "start_time": "2024-03-13T18:07:06.485Z"
   },
   {
    "duration": 8,
    "start_time": "2024-03-13T18:07:10.796Z"
   },
   {
    "duration": 6,
    "start_time": "2024-03-13T18:07:56.417Z"
   },
   {
    "duration": 8,
    "start_time": "2024-03-13T18:08:07.917Z"
   },
   {
    "duration": 7,
    "start_time": "2024-03-13T18:10:53.046Z"
   },
   {
    "duration": 7,
    "start_time": "2024-03-13T18:10:57.527Z"
   },
   {
    "duration": 6,
    "start_time": "2024-03-13T18:11:34.577Z"
   },
   {
    "duration": 8,
    "start_time": "2024-03-13T18:11:35.997Z"
   },
   {
    "duration": 64,
    "start_time": "2024-03-14T08:26:08.945Z"
   },
   {
    "duration": 533,
    "start_time": "2024-03-14T08:26:27.887Z"
   },
   {
    "duration": 24,
    "start_time": "2024-03-14T08:26:29.799Z"
   },
   {
    "duration": 453,
    "start_time": "2024-03-14T08:26:35.918Z"
   },
   {
    "duration": 22,
    "start_time": "2024-03-14T08:26:37.785Z"
   },
   {
    "duration": 16,
    "start_time": "2024-03-14T08:26:41.265Z"
   },
   {
    "duration": 11,
    "start_time": "2024-03-14T08:26:43.817Z"
   },
   {
    "duration": 36,
    "start_time": "2024-03-14T08:26:45.927Z"
   },
   {
    "duration": 4,
    "start_time": "2024-03-14T08:26:50.094Z"
   },
   {
    "duration": 8,
    "start_time": "2024-03-14T08:26:51.447Z"
   },
   {
    "duration": 4,
    "start_time": "2024-03-14T08:26:59.316Z"
   },
   {
    "duration": 7,
    "start_time": "2024-03-14T08:27:02.603Z"
   },
   {
    "duration": 4,
    "start_time": "2024-03-14T08:27:04.069Z"
   },
   {
    "duration": 35,
    "start_time": "2024-03-14T08:27:06.317Z"
   },
   {
    "duration": 10,
    "start_time": "2024-03-14T08:27:08.037Z"
   },
   {
    "duration": 4,
    "start_time": "2024-03-14T08:27:10.819Z"
   },
   {
    "duration": 12,
    "start_time": "2024-03-14T08:27:13.267Z"
   },
   {
    "duration": 20,
    "start_time": "2024-03-14T08:27:16.863Z"
   },
   {
    "duration": 16,
    "start_time": "2024-03-14T08:27:18.219Z"
   },
   {
    "duration": 4,
    "start_time": "2024-03-14T08:27:21.745Z"
   },
   {
    "duration": 11,
    "start_time": "2024-03-14T08:27:23.160Z"
   },
   {
    "duration": 5,
    "start_time": "2024-03-14T08:27:25.139Z"
   },
   {
    "duration": 3,
    "start_time": "2024-03-14T08:27:28.615Z"
   },
   {
    "duration": 8,
    "start_time": "2024-03-14T08:27:33.225Z"
   },
   {
    "duration": 8,
    "start_time": "2024-03-14T08:27:36.244Z"
   },
   {
    "duration": 7,
    "start_time": "2024-03-14T08:27:43.278Z"
   },
   {
    "duration": 11,
    "start_time": "2024-03-14T08:27:44.777Z"
   },
   {
    "duration": 75,
    "start_time": "2024-03-14T08:45:22.630Z"
   },
   {
    "duration": 4,
    "start_time": "2024-03-14T08:45:38.957Z"
   },
   {
    "duration": 5,
    "start_time": "2024-03-14T08:46:02.023Z"
   },
   {
    "duration": 3,
    "start_time": "2024-03-14T08:46:05.598Z"
   },
   {
    "duration": 5,
    "start_time": "2024-03-14T08:46:13.283Z"
   },
   {
    "duration": 100,
    "start_time": "2024-03-14T09:18:30.803Z"
   },
   {
    "duration": 4,
    "start_time": "2024-03-14T09:18:45.815Z"
   },
   {
    "duration": 8,
    "start_time": "2024-03-14T09:19:02.113Z"
   },
   {
    "duration": 3,
    "start_time": "2024-03-14T09:20:12.935Z"
   },
   {
    "duration": 8,
    "start_time": "2024-03-14T09:23:11.715Z"
   },
   {
    "duration": 6,
    "start_time": "2024-03-14T09:23:13.388Z"
   },
   {
    "duration": 9,
    "start_time": "2024-03-14T09:23:14.990Z"
   },
   {
    "duration": 452,
    "start_time": "2024-03-14T10:45:28.733Z"
   },
   {
    "duration": 22,
    "start_time": "2024-03-14T10:45:31.856Z"
   },
   {
    "duration": 16,
    "start_time": "2024-03-14T10:45:46.460Z"
   },
   {
    "duration": 11,
    "start_time": "2024-03-14T10:46:01.882Z"
   },
   {
    "duration": 38,
    "start_time": "2024-03-14T10:46:04.451Z"
   },
   {
    "duration": 4,
    "start_time": "2024-03-14T10:46:12.284Z"
   },
   {
    "duration": 8,
    "start_time": "2024-03-14T10:46:13.510Z"
   },
   {
    "duration": 4,
    "start_time": "2024-03-14T10:46:15.972Z"
   },
   {
    "duration": 34,
    "start_time": "2024-03-14T10:46:17.775Z"
   },
   {
    "duration": 4,
    "start_time": "2024-03-14T10:46:20.736Z"
   },
   {
    "duration": 36,
    "start_time": "2024-03-14T10:46:24.424Z"
   },
   {
    "duration": 11,
    "start_time": "2024-03-14T10:46:26.126Z"
   },
   {
    "duration": 4,
    "start_time": "2024-03-14T10:46:29.025Z"
   },
   {
    "duration": 11,
    "start_time": "2024-03-14T10:46:31.674Z"
   },
   {
    "duration": 29,
    "start_time": "2024-03-14T10:46:33.809Z"
   },
   {
    "duration": 17,
    "start_time": "2024-03-14T10:46:35.176Z"
   },
   {
    "duration": 3,
    "start_time": "2024-03-14T10:46:38.462Z"
   },
   {
    "duration": 10,
    "start_time": "2024-03-14T10:46:40.120Z"
   },
   {
    "duration": 6,
    "start_time": "2024-03-14T10:46:42.226Z"
   },
   {
    "duration": 4,
    "start_time": "2024-03-14T10:46:53.215Z"
   },
   {
    "duration": 9,
    "start_time": "2024-03-14T10:46:54.535Z"
   },
   {
    "duration": 3,
    "start_time": "2024-03-14T10:47:01.892Z"
   },
   {
    "duration": 4,
    "start_time": "2024-03-14T10:47:04.073Z"
   },
   {
    "duration": 6,
    "start_time": "2024-03-14T10:47:07.530Z"
   },
   {
    "duration": 7,
    "start_time": "2024-03-14T10:47:09.528Z"
   },
   {
    "duration": 9,
    "start_time": "2024-03-14T10:47:11.071Z"
   },
   {
    "duration": 105,
    "start_time": "2024-03-14T10:53:00.995Z"
   },
   {
    "duration": 7,
    "start_time": "2024-03-14T10:55:29.508Z"
   },
   {
    "duration": 5,
    "start_time": "2024-03-14T10:56:53.316Z"
   },
   {
    "duration": 8,
    "start_time": "2024-03-14T11:16:04.368Z"
   },
   {
    "duration": 6,
    "start_time": "2024-03-14T11:16:06.056Z"
   },
   {
    "duration": 9,
    "start_time": "2024-03-14T11:16:08.310Z"
   },
   {
    "duration": 7,
    "start_time": "2024-03-14T11:17:00.040Z"
   },
   {
    "duration": 6,
    "start_time": "2024-03-14T11:17:01.019Z"
   },
   {
    "duration": 9,
    "start_time": "2024-03-14T11:17:01.989Z"
   },
   {
    "duration": 96,
    "start_time": "2024-03-14T12:09:20.184Z"
   },
   {
    "duration": 7,
    "start_time": "2024-03-14T12:09:30.662Z"
   },
   {
    "duration": 9,
    "start_time": "2024-03-14T12:09:39.972Z"
   },
   {
    "duration": 6,
    "start_time": "2024-03-14T12:09:41.545Z"
   },
   {
    "duration": 9,
    "start_time": "2024-03-14T12:09:43.892Z"
   },
   {
    "duration": 5,
    "start_time": "2024-03-14T12:10:03.498Z"
   },
   {
    "duration": 8,
    "start_time": "2024-03-14T12:10:07.877Z"
   },
   {
    "duration": 5,
    "start_time": "2024-03-14T12:10:10.180Z"
   },
   {
    "duration": 9,
    "start_time": "2024-03-14T12:10:11.441Z"
   },
   {
    "duration": 5,
    "start_time": "2024-03-14T12:10:36.442Z"
   },
   {
    "duration": 11,
    "start_time": "2024-03-14T12:10:45.686Z"
   },
   {
    "duration": 5,
    "start_time": "2024-03-14T12:10:58.292Z"
   },
   {
    "duration": 8,
    "start_time": "2024-03-14T12:10:59.233Z"
   },
   {
    "duration": 15,
    "start_time": "2024-03-14T12:13:30.729Z"
   },
   {
    "duration": 9,
    "start_time": "2024-03-14T12:13:38.869Z"
   },
   {
    "duration": 68,
    "start_time": "2024-03-14T12:14:04.572Z"
   },
   {
    "duration": 12,
    "start_time": "2024-03-14T12:14:05.929Z"
   },
   {
    "duration": 4,
    "start_time": "2024-03-14T12:14:06.741Z"
   },
   {
    "duration": 5,
    "start_time": "2024-03-14T12:14:36.383Z"
   },
   {
    "duration": 4,
    "start_time": "2024-03-14T12:14:37.545Z"
   },
   {
    "duration": 8,
    "start_time": "2024-03-14T12:14:48.902Z"
   },
   {
    "duration": 19,
    "start_time": "2024-03-14T12:14:53.697Z"
   },
   {
    "duration": 6,
    "start_time": "2024-03-14T12:15:53.758Z"
   },
   {
    "duration": 20,
    "start_time": "2024-03-14T12:15:56.483Z"
   },
   {
    "duration": 6,
    "start_time": "2024-03-14T12:20:12.079Z"
   },
   {
    "duration": 11,
    "start_time": "2024-03-14T12:20:25.618Z"
   },
   {
    "duration": 6,
    "start_time": "2024-03-14T12:20:27.033Z"
   },
   {
    "duration": 8,
    "start_time": "2024-03-14T12:20:28.423Z"
   },
   {
    "duration": 6,
    "start_time": "2024-03-14T12:21:20.674Z"
   },
   {
    "duration": 12,
    "start_time": "2024-03-14T12:21:23.468Z"
   },
   {
    "duration": 6,
    "start_time": "2024-03-14T12:21:25.249Z"
   },
   {
    "duration": 8,
    "start_time": "2024-03-14T12:21:26.369Z"
   },
   {
    "duration": 534,
    "start_time": "2024-03-14T12:24:49.766Z"
   },
   {
    "duration": 24,
    "start_time": "2024-03-14T12:24:51.417Z"
   },
   {
    "duration": 17,
    "start_time": "2024-03-14T12:24:54.293Z"
   },
   {
    "duration": 11,
    "start_time": "2024-03-14T12:24:57.075Z"
   },
   {
    "duration": 35,
    "start_time": "2024-03-14T12:24:59.473Z"
   },
   {
    "duration": 3,
    "start_time": "2024-03-14T12:25:01.490Z"
   },
   {
    "duration": 8,
    "start_time": "2024-03-14T12:25:02.793Z"
   },
   {
    "duration": 4,
    "start_time": "2024-03-14T12:25:05.412Z"
   },
   {
    "duration": 7,
    "start_time": "2024-03-14T12:25:07.044Z"
   },
   {
    "duration": 4,
    "start_time": "2024-03-14T12:25:08.436Z"
   },
   {
    "duration": 40,
    "start_time": "2024-03-14T12:25:10.699Z"
   },
   {
    "duration": 12,
    "start_time": "2024-03-14T12:25:12.543Z"
   },
   {
    "duration": 4,
    "start_time": "2024-03-14T12:25:14.664Z"
   },
   {
    "duration": 13,
    "start_time": "2024-03-14T12:25:16.283Z"
   },
   {
    "duration": 22,
    "start_time": "2024-03-14T12:25:17.955Z"
   },
   {
    "duration": 20,
    "start_time": "2024-03-14T12:25:19.258Z"
   },
   {
    "duration": 3,
    "start_time": "2024-03-14T12:25:21.676Z"
   },
   {
    "duration": 12,
    "start_time": "2024-03-14T12:25:24.821Z"
   },
   {
    "duration": 7,
    "start_time": "2024-03-14T12:25:26.466Z"
   },
   {
    "duration": 4,
    "start_time": "2024-03-14T12:25:30.812Z"
   },
   {
    "duration": 9,
    "start_time": "2024-03-14T12:25:34.296Z"
   },
   {
    "duration": 3,
    "start_time": "2024-03-14T12:25:38.469Z"
   },
   {
    "duration": 4,
    "start_time": "2024-03-14T12:25:40.287Z"
   },
   {
    "duration": 6,
    "start_time": "2024-03-14T12:25:42.219Z"
   },
   {
    "duration": 7,
    "start_time": "2024-03-14T12:25:43.546Z"
   },
   {
    "duration": 8,
    "start_time": "2024-03-14T12:25:45.172Z"
   },
   {
    "duration": 9,
    "start_time": "2024-03-14T12:43:31.137Z"
   },
   {
    "duration": 6,
    "start_time": "2024-03-14T12:43:34.665Z"
   },
   {
    "duration": 9,
    "start_time": "2024-03-14T12:43:36.180Z"
   },
   {
    "duration": 8,
    "start_time": "2024-03-14T12:55:57.981Z"
   },
   {
    "duration": 5,
    "start_time": "2024-03-14T12:56:10.746Z"
   },
   {
    "duration": 9,
    "start_time": "2024-03-14T12:56:11.970Z"
   },
   {
    "duration": 14,
    "start_time": "2024-03-14T14:20:26.921Z"
   },
   {
    "duration": 8,
    "start_time": "2024-03-14T14:21:05.980Z"
   },
   {
    "duration": 13,
    "start_time": "2024-03-14T14:21:07.400Z"
   },
   {
    "duration": 8,
    "start_time": "2024-03-14T14:21:18.948Z"
   },
   {
    "duration": 6,
    "start_time": "2024-03-14T14:21:20.998Z"
   },
   {
    "duration": 8,
    "start_time": "2024-03-14T14:21:22.605Z"
   },
   {
    "duration": 6,
    "start_time": "2024-03-14T14:22:26.398Z"
   },
   {
    "duration": 8,
    "start_time": "2024-03-14T14:22:31.185Z"
   },
   {
    "duration": 493,
    "start_time": "2024-03-14T15:14:32.764Z"
   },
   {
    "duration": 23,
    "start_time": "2024-03-14T15:14:35.086Z"
   },
   {
    "duration": 15,
    "start_time": "2024-03-14T15:14:38.000Z"
   },
   {
    "duration": 11,
    "start_time": "2024-03-14T15:14:41.761Z"
   },
   {
    "duration": 12,
    "start_time": "2024-03-14T15:14:48.645Z"
   },
   {
    "duration": 37,
    "start_time": "2024-03-14T15:14:51.366Z"
   },
   {
    "duration": 4,
    "start_time": "2024-03-14T15:14:53.484Z"
   },
   {
    "duration": 8,
    "start_time": "2024-03-14T15:14:55.149Z"
   },
   {
    "duration": 4,
    "start_time": "2024-03-14T15:14:59.058Z"
   },
   {
    "duration": 6,
    "start_time": "2024-03-14T15:15:01.081Z"
   },
   {
    "duration": 5,
    "start_time": "2024-03-14T15:15:02.433Z"
   },
   {
    "duration": 38,
    "start_time": "2024-03-14T15:15:05.985Z"
   },
   {
    "duration": 12,
    "start_time": "2024-03-14T15:15:08.127Z"
   },
   {
    "duration": 5,
    "start_time": "2024-03-14T15:15:10.685Z"
   },
   {
    "duration": 15,
    "start_time": "2024-03-14T15:15:12.089Z"
   },
   {
    "duration": 21,
    "start_time": "2024-03-14T15:15:13.665Z"
   },
   {
    "duration": 18,
    "start_time": "2024-03-14T15:15:14.766Z"
   },
   {
    "duration": 4,
    "start_time": "2024-03-14T15:15:18.730Z"
   },
   {
    "duration": 10,
    "start_time": "2024-03-14T15:15:20.188Z"
   },
   {
    "duration": 6,
    "start_time": "2024-03-14T15:15:22.359Z"
   },
   {
    "duration": 4,
    "start_time": "2024-03-14T15:15:31.568Z"
   },
   {
    "duration": 9,
    "start_time": "2024-03-14T15:15:33.969Z"
   },
   {
    "duration": 5,
    "start_time": "2024-03-14T15:15:36.242Z"
   },
   {
    "duration": 4,
    "start_time": "2024-03-14T15:15:37.981Z"
   },
   {
    "duration": 8,
    "start_time": "2024-03-14T15:15:40.555Z"
   },
   {
    "duration": 6,
    "start_time": "2024-03-14T15:15:42.258Z"
   },
   {
    "duration": 9,
    "start_time": "2024-03-14T15:15:44.210Z"
   },
   {
    "duration": 8,
    "start_time": "2024-03-14T15:15:59.877Z"
   },
   {
    "duration": 6,
    "start_time": "2024-03-14T15:16:02.358Z"
   },
   {
    "duration": 8,
    "start_time": "2024-03-14T15:16:04.166Z"
   },
   {
    "duration": 8,
    "start_time": "2024-03-14T15:16:09.808Z"
   },
   {
    "duration": 5,
    "start_time": "2024-03-14T15:16:12.794Z"
   },
   {
    "duration": 9,
    "start_time": "2024-03-14T15:16:14.287Z"
   },
   {
    "duration": 7,
    "start_time": "2024-03-14T15:16:25.170Z"
   },
   {
    "duration": 6,
    "start_time": "2024-03-14T15:16:29.241Z"
   },
   {
    "duration": 9,
    "start_time": "2024-03-14T15:16:31.735Z"
   },
   {
    "duration": 476,
    "start_time": "2024-03-14T20:15:53.227Z"
   },
   {
    "duration": 20,
    "start_time": "2024-03-14T20:15:53.705Z"
   },
   {
    "duration": 15,
    "start_time": "2024-03-14T20:15:53.726Z"
   },
   {
    "duration": 19,
    "start_time": "2024-03-14T20:15:53.743Z"
   },
   {
    "duration": 34,
    "start_time": "2024-03-14T20:15:53.764Z"
   },
   {
    "duration": 4,
    "start_time": "2024-03-14T20:15:53.799Z"
   },
   {
    "duration": 9,
    "start_time": "2024-03-14T20:15:53.804Z"
   },
   {
    "duration": 4,
    "start_time": "2024-03-14T20:15:53.815Z"
   },
   {
    "duration": 15,
    "start_time": "2024-03-14T20:15:53.820Z"
   },
   {
    "duration": 4,
    "start_time": "2024-03-14T20:15:53.839Z"
   },
   {
    "duration": 56,
    "start_time": "2024-03-14T20:15:53.845Z"
   },
   {
    "duration": 10,
    "start_time": "2024-03-14T20:15:53.903Z"
   },
   {
    "duration": 20,
    "start_time": "2024-03-14T20:15:53.914Z"
   },
   {
    "duration": 18,
    "start_time": "2024-03-14T20:15:53.936Z"
   },
   {
    "duration": 17,
    "start_time": "2024-03-14T20:15:53.955Z"
   },
   {
    "duration": 15,
    "start_time": "2024-03-14T20:15:53.973Z"
   },
   {
    "duration": 3,
    "start_time": "2024-03-14T20:15:53.989Z"
   },
   {
    "duration": 13,
    "start_time": "2024-03-14T20:15:53.993Z"
   },
   {
    "duration": 7,
    "start_time": "2024-03-14T20:15:54.007Z"
   },
   {
    "duration": 4,
    "start_time": "2024-03-14T20:15:54.015Z"
   },
   {
    "duration": 16,
    "start_time": "2024-03-14T20:15:54.020Z"
   },
   {
    "duration": 3,
    "start_time": "2024-03-14T20:15:54.037Z"
   },
   {
    "duration": 5,
    "start_time": "2024-03-14T20:15:54.041Z"
   },
   {
    "duration": 27,
    "start_time": "2024-03-14T20:15:54.048Z"
   },
   {
    "duration": 4,
    "start_time": "2024-03-14T20:15:54.076Z"
   },
   {
    "duration": 22,
    "start_time": "2024-03-14T20:15:54.081Z"
   },
   {
    "duration": 21,
    "start_time": "2024-03-14T20:15:54.104Z"
   },
   {
    "duration": 5,
    "start_time": "2024-03-14T20:15:54.129Z"
   },
   {
    "duration": 8,
    "start_time": "2024-03-14T20:15:54.136Z"
   },
   {
    "duration": 7,
    "start_time": "2024-03-14T20:15:54.145Z"
   },
   {
    "duration": 5,
    "start_time": "2024-03-14T20:15:54.153Z"
   },
   {
    "duration": 10,
    "start_time": "2024-03-14T20:15:54.160Z"
   },
   {
    "duration": 10,
    "start_time": "2024-03-14T20:15:54.171Z"
   },
   {
    "duration": 4,
    "start_time": "2024-03-14T20:15:54.182Z"
   },
   {
    "duration": 9,
    "start_time": "2024-03-14T20:15:54.188Z"
   },
   {
    "duration": 96,
    "start_time": "2024-03-14T20:21:01.061Z"
   },
   {
    "duration": 44,
    "start_time": "2024-03-15T06:51:33.452Z"
   },
   {
    "duration": 5,
    "start_time": "2024-03-15T06:53:00.692Z"
   },
   {
    "duration": 662,
    "start_time": "2024-03-15T06:53:41.671Z"
   },
   {
    "duration": 462,
    "start_time": "2024-03-15T06:53:48.741Z"
   },
   {
    "duration": 21,
    "start_time": "2024-03-15T06:53:50.242Z"
   },
   {
    "duration": 15,
    "start_time": "2024-03-15T06:53:53.430Z"
   },
   {
    "duration": 10,
    "start_time": "2024-03-15T06:53:55.796Z"
   },
   {
    "duration": 33,
    "start_time": "2024-03-15T06:53:58.321Z"
   },
   {
    "duration": 3,
    "start_time": "2024-03-15T06:54:00.636Z"
   },
   {
    "duration": 8,
    "start_time": "2024-03-15T06:54:01.588Z"
   },
   {
    "duration": 5,
    "start_time": "2024-03-15T06:54:04.741Z"
   },
   {
    "duration": 7,
    "start_time": "2024-03-15T06:54:06.326Z"
   },
   {
    "duration": 5,
    "start_time": "2024-03-15T06:54:08.212Z"
   },
   {
    "duration": 32,
    "start_time": "2024-03-15T06:54:10.442Z"
   },
   {
    "duration": 10,
    "start_time": "2024-03-15T06:54:12.843Z"
   },
   {
    "duration": 3,
    "start_time": "2024-03-15T06:54:15.256Z"
   },
   {
    "duration": 11,
    "start_time": "2024-03-15T06:54:17.140Z"
   },
   {
    "duration": 19,
    "start_time": "2024-03-15T06:54:21.855Z"
   },
   {
    "duration": 16,
    "start_time": "2024-03-15T06:54:23.148Z"
   },
   {
    "duration": 4,
    "start_time": "2024-03-15T06:54:26.256Z"
   },
   {
    "duration": 10,
    "start_time": "2024-03-15T06:54:28.151Z"
   },
   {
    "duration": 6,
    "start_time": "2024-03-15T06:54:29.919Z"
   },
   {
    "duration": 3,
    "start_time": "2024-03-15T06:54:32.623Z"
   },
   {
    "duration": 9,
    "start_time": "2024-03-15T06:54:34.512Z"
   },
   {
    "duration": 3,
    "start_time": "2024-03-15T06:54:37.055Z"
   },
   {
    "duration": 4,
    "start_time": "2024-03-15T06:54:39.171Z"
   },
   {
    "duration": 7,
    "start_time": "2024-03-15T06:54:53.134Z"
   },
   {
    "duration": 8,
    "start_time": "2024-03-15T06:54:56.086Z"
   },
   {
    "duration": 7,
    "start_time": "2024-03-15T06:54:59.113Z"
   },
   {
    "duration": 9,
    "start_time": "2024-03-15T06:55:01.702Z"
   },
   {
    "duration": 12,
    "start_time": "2024-03-15T06:57:28.184Z"
   },
   {
    "duration": 6,
    "start_time": "2024-03-15T06:57:31.739Z"
   },
   {
    "duration": 5,
    "start_time": "2024-03-15T06:57:32.876Z"
   },
   {
    "duration": 8,
    "start_time": "2024-03-15T06:57:34.192Z"
   },
   {
    "duration": 3,
    "start_time": "2024-03-15T07:01:53.378Z"
   },
   {
    "duration": 3,
    "start_time": "2024-03-15T07:01:57.528Z"
   },
   {
    "duration": 6,
    "start_time": "2024-03-15T07:02:50.839Z"
   },
   {
    "duration": 5,
    "start_time": "2024-03-15T07:02:51.853Z"
   },
   {
    "duration": 8,
    "start_time": "2024-03-15T07:02:56.628Z"
   },
   {
    "duration": 7,
    "start_time": "2024-03-15T07:38:43.523Z"
   },
   {
    "duration": 4,
    "start_time": "2024-03-15T07:38:44.983Z"
   },
   {
    "duration": 8,
    "start_time": "2024-03-15T07:38:46.709Z"
   },
   {
    "duration": 9,
    "start_time": "2024-03-15T07:57:29.017Z"
   },
   {
    "duration": 8,
    "start_time": "2024-03-15T07:57:37.393Z"
   },
   {
    "duration": 6,
    "start_time": "2024-03-15T07:58:03.144Z"
   },
   {
    "duration": 7,
    "start_time": "2024-03-15T07:58:06.427Z"
   },
   {
    "duration": 7,
    "start_time": "2024-03-15T07:59:11.521Z"
   },
   {
    "duration": 5,
    "start_time": "2024-03-15T07:59:13.614Z"
   },
   {
    "duration": 4,
    "start_time": "2024-03-15T07:59:15.667Z"
   },
   {
    "duration": 8,
    "start_time": "2024-03-15T07:59:17.844Z"
   },
   {
    "duration": 5,
    "start_time": "2024-03-15T07:59:36.238Z"
   },
   {
    "duration": 10,
    "start_time": "2024-03-15T07:59:38.273Z"
   },
   {
    "duration": 70,
    "start_time": "2024-03-15T08:02:26.953Z"
   },
   {
    "duration": 71,
    "start_time": "2024-03-15T08:02:36.329Z"
   },
   {
    "duration": 5,
    "start_time": "2024-03-15T08:02:40.983Z"
   },
   {
    "duration": 67,
    "start_time": "2024-03-15T08:02:43.505Z"
   },
   {
    "duration": 58,
    "start_time": "2024-03-15T08:02:55.337Z"
   },
   {
    "duration": 5,
    "start_time": "2024-03-15T08:03:11.278Z"
   },
   {
    "duration": 4,
    "start_time": "2024-03-15T08:03:20.036Z"
   },
   {
    "duration": 10,
    "start_time": "2024-03-15T08:03:21.551Z"
   },
   {
    "duration": 414,
    "start_time": "2024-03-15T08:03:39.585Z"
   },
   {
    "duration": 19,
    "start_time": "2024-03-15T08:03:40.943Z"
   },
   {
    "duration": 13,
    "start_time": "2024-03-15T08:03:44.352Z"
   },
   {
    "duration": 15,
    "start_time": "2024-03-15T08:03:47.255Z"
   },
   {
    "duration": 31,
    "start_time": "2024-03-15T08:03:50.309Z"
   },
   {
    "duration": 4,
    "start_time": "2024-03-15T08:03:51.905Z"
   },
   {
    "duration": 7,
    "start_time": "2024-03-15T08:03:52.861Z"
   },
   {
    "duration": 4,
    "start_time": "2024-03-15T08:03:54.943Z"
   },
   {
    "duration": 6,
    "start_time": "2024-03-15T08:03:56.621Z"
   },
   {
    "duration": 5,
    "start_time": "2024-03-15T08:03:57.748Z"
   },
   {
    "duration": 32,
    "start_time": "2024-03-15T08:03:59.994Z"
   },
   {
    "duration": 10,
    "start_time": "2024-03-15T08:04:01.757Z"
   },
   {
    "duration": 3,
    "start_time": "2024-03-15T08:04:04.482Z"
   },
   {
    "duration": 10,
    "start_time": "2024-03-15T08:04:06.286Z"
   },
   {
    "duration": 18,
    "start_time": "2024-03-15T08:04:08.024Z"
   },
   {
    "duration": 15,
    "start_time": "2024-03-15T08:04:08.978Z"
   },
   {
    "duration": 3,
    "start_time": "2024-03-15T08:04:11.412Z"
   },
   {
    "duration": 9,
    "start_time": "2024-03-15T08:04:13.963Z"
   },
   {
    "duration": 5,
    "start_time": "2024-03-15T08:04:15.314Z"
   },
   {
    "duration": 3,
    "start_time": "2024-03-15T08:04:21.335Z"
   },
   {
    "duration": 8,
    "start_time": "2024-03-15T08:04:23.132Z"
   },
   {
    "duration": 3,
    "start_time": "2024-03-15T08:04:24.313Z"
   },
   {
    "duration": 3,
    "start_time": "2024-03-15T08:04:27.532Z"
   },
   {
    "duration": 8,
    "start_time": "2024-03-15T08:05:42.213Z"
   },
   {
    "duration": 5,
    "start_time": "2024-03-15T08:05:47.963Z"
   },
   {
    "duration": 8,
    "start_time": "2024-03-15T08:05:52.223Z"
   },
   {
    "duration": 8,
    "start_time": "2024-03-15T08:05:57.044Z"
   },
   {
    "duration": 7,
    "start_time": "2024-03-15T08:06:11.545Z"
   },
   {
    "duration": 5,
    "start_time": "2024-03-15T08:06:18.782Z"
   },
   {
    "duration": 7,
    "start_time": "2024-03-15T08:06:20.392Z"
   },
   {
    "duration": 5,
    "start_time": "2024-03-15T08:06:44.403Z"
   },
   {
    "duration": 4,
    "start_time": "2024-03-15T08:06:46.056Z"
   },
   {
    "duration": 5,
    "start_time": "2024-03-15T08:06:47.536Z"
   },
   {
    "duration": 7,
    "start_time": "2024-03-15T08:06:49.337Z"
   },
   {
    "duration": 6,
    "start_time": "2024-03-15T08:08:49.710Z"
   },
   {
    "duration": 15,
    "start_time": "2024-03-15T08:08:59.301Z"
   },
   {
    "duration": 7,
    "start_time": "2024-03-15T08:11:09.288Z"
   },
   {
    "duration": 395,
    "start_time": "2024-03-15T08:11:28.903Z"
   },
   {
    "duration": 19,
    "start_time": "2024-03-15T08:11:32.612Z"
   },
   {
    "duration": 14,
    "start_time": "2024-03-15T08:11:36.048Z"
   },
   {
    "duration": 10,
    "start_time": "2024-03-15T08:11:38.140Z"
   },
   {
    "duration": 31,
    "start_time": "2024-03-15T08:11:40.530Z"
   },
   {
    "duration": 3,
    "start_time": "2024-03-15T08:11:42.418Z"
   },
   {
    "duration": 9,
    "start_time": "2024-03-15T08:11:43.483Z"
   },
   {
    "duration": 3,
    "start_time": "2024-03-15T08:11:45.966Z"
   },
   {
    "duration": 6,
    "start_time": "2024-03-15T08:11:48.640Z"
   },
   {
    "duration": 4,
    "start_time": "2024-03-15T08:11:49.618Z"
   },
   {
    "duration": 31,
    "start_time": "2024-03-15T08:11:52.090Z"
   },
   {
    "duration": 10,
    "start_time": "2024-03-15T08:11:53.158Z"
   },
   {
    "duration": 3,
    "start_time": "2024-03-15T08:11:55.258Z"
   },
   {
    "duration": 10,
    "start_time": "2024-03-15T08:11:57.077Z"
   },
   {
    "duration": 19,
    "start_time": "2024-03-15T08:11:58.878Z"
   },
   {
    "duration": 16,
    "start_time": "2024-03-15T08:12:00.120Z"
   },
   {
    "duration": 3,
    "start_time": "2024-03-15T08:12:04.152Z"
   },
   {
    "duration": 9,
    "start_time": "2024-03-15T08:12:05.770Z"
   },
   {
    "duration": 5,
    "start_time": "2024-03-15T08:12:06.952Z"
   },
   {
    "duration": 3,
    "start_time": "2024-03-15T08:12:10.497Z"
   },
   {
    "duration": 7,
    "start_time": "2024-03-15T08:12:12.303Z"
   },
   {
    "duration": 3,
    "start_time": "2024-03-15T08:12:17.676Z"
   },
   {
    "duration": 3,
    "start_time": "2024-03-15T08:12:20.097Z"
   },
   {
    "duration": 6,
    "start_time": "2024-03-15T08:12:23.168Z"
   },
   {
    "duration": 7,
    "start_time": "2024-03-15T08:12:24.244Z"
   },
   {
    "duration": 8,
    "start_time": "2024-03-15T08:12:28.067Z"
   },
   {
    "duration": 7,
    "start_time": "2024-03-15T08:12:34.726Z"
   },
   {
    "duration": 5,
    "start_time": "2024-03-15T08:12:36.708Z"
   },
   {
    "duration": 7,
    "start_time": "2024-03-15T08:12:39.048Z"
   },
   {
    "duration": 6,
    "start_time": "2024-03-15T08:15:51.031Z"
   },
   {
    "duration": 5,
    "start_time": "2024-03-15T08:15:52.494Z"
   },
   {
    "duration": 5,
    "start_time": "2024-03-15T08:15:53.951Z"
   },
   {
    "duration": 7,
    "start_time": "2024-03-15T08:15:55.713Z"
   },
   {
    "duration": 5,
    "start_time": "2024-03-15T08:16:23.248Z"
   },
   {
    "duration": 7,
    "start_time": "2024-03-15T08:16:30.866Z"
   },
   {
    "duration": 14,
    "start_time": "2024-03-15T08:17:09.384Z"
   },
   {
    "duration": 6,
    "start_time": "2024-03-15T08:17:32.925Z"
   },
   {
    "duration": 5,
    "start_time": "2024-03-15T08:17:34.077Z"
   },
   {
    "duration": 7,
    "start_time": "2024-03-15T08:17:35.714Z"
   },
   {
    "duration": 461,
    "start_time": "2024-03-15T08:18:33.537Z"
   },
   {
    "duration": 19,
    "start_time": "2024-03-15T08:18:35.357Z"
   },
   {
    "duration": 15,
    "start_time": "2024-03-15T08:18:38.335Z"
   },
   {
    "duration": 10,
    "start_time": "2024-03-15T08:18:41.305Z"
   },
   {
    "duration": 33,
    "start_time": "2024-03-15T08:18:44.248Z"
   },
   {
    "duration": 3,
    "start_time": "2024-03-15T08:18:46.199Z"
   },
   {
    "duration": 7,
    "start_time": "2024-03-15T08:18:47.517Z"
   },
   {
    "duration": 4,
    "start_time": "2024-03-15T08:18:51.574Z"
   },
   {
    "duration": 5,
    "start_time": "2024-03-15T08:18:53.948Z"
   },
   {
    "duration": 4,
    "start_time": "2024-03-15T08:18:55.947Z"
   },
   {
    "duration": 35,
    "start_time": "2024-03-15T08:18:58.231Z"
   },
   {
    "duration": 9,
    "start_time": "2024-03-15T08:19:00.227Z"
   },
   {
    "duration": 3,
    "start_time": "2024-03-15T08:19:03.047Z"
   },
   {
    "duration": 11,
    "start_time": "2024-03-15T08:19:05.144Z"
   },
   {
    "duration": 18,
    "start_time": "2024-03-15T08:19:06.497Z"
   },
   {
    "duration": 16,
    "start_time": "2024-03-15T08:19:08.119Z"
   },
   {
    "duration": 3,
    "start_time": "2024-03-15T08:19:10.334Z"
   },
   {
    "duration": 5,
    "start_time": "2024-03-15T08:19:16.258Z"
   },
   {
    "duration": 407,
    "start_time": "2024-03-15T08:19:28.683Z"
   },
   {
    "duration": 19,
    "start_time": "2024-03-15T08:19:30.413Z"
   },
   {
    "duration": 15,
    "start_time": "2024-03-15T08:19:33.509Z"
   },
   {
    "duration": 11,
    "start_time": "2024-03-15T08:19:36.327Z"
   },
   {
    "duration": 10,
    "start_time": "2024-03-15T08:19:37.499Z"
   },
   {
    "duration": 33,
    "start_time": "2024-03-15T08:19:39.894Z"
   },
   {
    "duration": 3,
    "start_time": "2024-03-15T08:19:41.703Z"
   },
   {
    "duration": 7,
    "start_time": "2024-03-15T08:19:42.926Z"
   },
   {
    "duration": 4,
    "start_time": "2024-03-15T08:19:44.750Z"
   },
   {
    "duration": 6,
    "start_time": "2024-03-15T08:19:46.391Z"
   },
   {
    "duration": 4,
    "start_time": "2024-03-15T08:19:47.476Z"
   },
   {
    "duration": 31,
    "start_time": "2024-03-15T08:19:49.167Z"
   },
   {
    "duration": 9,
    "start_time": "2024-03-15T08:19:50.270Z"
   },
   {
    "duration": 3,
    "start_time": "2024-03-15T08:19:52.105Z"
   },
   {
    "duration": 10,
    "start_time": "2024-03-15T08:19:53.873Z"
   },
   {
    "duration": 17,
    "start_time": "2024-03-15T08:19:55.000Z"
   },
   {
    "duration": 15,
    "start_time": "2024-03-15T08:19:56.748Z"
   },
   {
    "duration": 3,
    "start_time": "2024-03-15T08:19:58.736Z"
   },
   {
    "duration": 3,
    "start_time": "2024-03-15T08:20:01.707Z"
   },
   {
    "duration": 9,
    "start_time": "2024-03-15T08:20:03.489Z"
   },
   {
    "duration": 3,
    "start_time": "2024-03-15T08:20:05.045Z"
   },
   {
    "duration": 3,
    "start_time": "2024-03-15T08:20:06.718Z"
   },
   {
    "duration": 7,
    "start_time": "2024-03-15T08:20:09.034Z"
   },
   {
    "duration": 5,
    "start_time": "2024-03-15T08:20:10.867Z"
   },
   {
    "duration": 8,
    "start_time": "2024-03-15T08:20:13.463Z"
   },
   {
    "duration": 7,
    "start_time": "2024-03-15T08:20:18.766Z"
   },
   {
    "duration": 5,
    "start_time": "2024-03-15T08:20:21.321Z"
   },
   {
    "duration": 8,
    "start_time": "2024-03-15T08:20:22.932Z"
   },
   {
    "duration": 73,
    "start_time": "2024-03-15T08:22:04.972Z"
   },
   {
    "duration": 7,
    "start_time": "2024-03-15T08:23:39.378Z"
   },
   {
    "duration": 7,
    "start_time": "2024-03-15T08:23:40.810Z"
   },
   {
    "duration": 4,
    "start_time": "2024-03-15T08:23:46.470Z"
   },
   {
    "duration": 6,
    "start_time": "2024-03-15T08:23:47.712Z"
   },
   {
    "duration": 5,
    "start_time": "2024-03-15T08:23:48.449Z"
   },
   {
    "duration": 6,
    "start_time": "2024-03-15T08:23:49.233Z"
   },
   {
    "duration": 5,
    "start_time": "2024-03-15T08:23:50.345Z"
   },
   {
    "duration": 7,
    "start_time": "2024-03-15T08:23:53.600Z"
   },
   {
    "duration": 5,
    "start_time": "2024-03-15T08:37:51.284Z"
   },
   {
    "duration": 5,
    "start_time": "2024-03-15T08:37:52.413Z"
   },
   {
    "duration": 5,
    "start_time": "2024-03-15T08:37:53.221Z"
   },
   {
    "duration": 8,
    "start_time": "2024-03-15T08:37:54.984Z"
   },
   {
    "duration": 5,
    "start_time": "2024-03-15T08:37:56.118Z"
   },
   {
    "duration": 7,
    "start_time": "2024-03-15T08:37:57.220Z"
   },
   {
    "duration": 7,
    "start_time": "2024-03-15T08:38:32.734Z"
   },
   {
    "duration": 5,
    "start_time": "2024-03-15T08:38:34.535Z"
   },
   {
    "duration": 8,
    "start_time": "2024-03-15T08:38:35.633Z"
   },
   {
    "duration": 482,
    "start_time": "2024-03-15T08:38:53.339Z"
   },
   {
    "duration": 21,
    "start_time": "2024-03-15T08:38:54.840Z"
   },
   {
    "duration": 15,
    "start_time": "2024-03-15T08:38:57.995Z"
   },
   {
    "duration": 9,
    "start_time": "2024-03-15T08:39:00.769Z"
   },
   {
    "duration": 31,
    "start_time": "2024-03-15T08:39:02.971Z"
   },
   {
    "duration": 4,
    "start_time": "2024-03-15T08:39:04.701Z"
   },
   {
    "duration": 6,
    "start_time": "2024-03-15T08:39:05.747Z"
   },
   {
    "duration": 5,
    "start_time": "2024-03-15T08:39:07.452Z"
   },
   {
    "duration": 6,
    "start_time": "2024-03-15T08:39:08.956Z"
   },
   {
    "duration": 4,
    "start_time": "2024-03-15T08:39:09.960Z"
   },
   {
    "duration": 31,
    "start_time": "2024-03-15T08:39:12.034Z"
   },
   {
    "duration": 10,
    "start_time": "2024-03-15T08:39:13.340Z"
   },
   {
    "duration": 4,
    "start_time": "2024-03-15T08:39:15.713Z"
   },
   {
    "duration": 11,
    "start_time": "2024-03-15T08:39:17.576Z"
   },
   {
    "duration": 18,
    "start_time": "2024-03-15T08:39:19.262Z"
   },
   {
    "duration": 15,
    "start_time": "2024-03-15T08:39:20.267Z"
   },
   {
    "duration": 3,
    "start_time": "2024-03-15T08:39:23.516Z"
   },
   {
    "duration": 9,
    "start_time": "2024-03-15T08:39:24.878Z"
   },
   {
    "duration": 5,
    "start_time": "2024-03-15T08:39:26.754Z"
   },
   {
    "duration": 3,
    "start_time": "2024-03-15T08:39:29.932Z"
   },
   {
    "duration": 8,
    "start_time": "2024-03-15T08:39:32.001Z"
   },
   {
    "duration": 3,
    "start_time": "2024-03-15T08:39:33.774Z"
   },
   {
    "duration": 3,
    "start_time": "2024-03-15T08:39:34.988Z"
   },
   {
    "duration": 5,
    "start_time": "2024-03-15T08:39:37.113Z"
   },
   {
    "duration": 6,
    "start_time": "2024-03-15T08:39:38.365Z"
   },
   {
    "duration": 7,
    "start_time": "2024-03-15T08:39:40.788Z"
   },
   {
    "duration": 6,
    "start_time": "2024-03-15T08:39:45.360Z"
   },
   {
    "duration": 5,
    "start_time": "2024-03-15T08:39:46.612Z"
   },
   {
    "duration": 9,
    "start_time": "2024-03-15T08:39:48.543Z"
   },
   {
    "duration": 5,
    "start_time": "2024-03-15T08:39:58.679Z"
   },
   {
    "duration": 4,
    "start_time": "2024-03-15T08:39:59.643Z"
   },
   {
    "duration": 5,
    "start_time": "2024-03-15T08:40:02.360Z"
   },
   {
    "duration": 7,
    "start_time": "2024-03-15T08:40:04.189Z"
   },
   {
    "duration": 5,
    "start_time": "2024-03-15T08:40:05.077Z"
   },
   {
    "duration": 7,
    "start_time": "2024-03-15T08:40:06.935Z"
   },
   {
    "duration": 5,
    "start_time": "2024-03-15T08:45:25.149Z"
   },
   {
    "duration": 5,
    "start_time": "2024-03-15T08:45:26.116Z"
   },
   {
    "duration": 4,
    "start_time": "2024-03-15T08:45:27.023Z"
   },
   {
    "duration": 7,
    "start_time": "2024-03-15T08:45:28.685Z"
   },
   {
    "duration": 6,
    "start_time": "2024-03-15T08:45:30.766Z"
   },
   {
    "duration": 8,
    "start_time": "2024-03-15T08:45:32.345Z"
   },
   {
    "duration": 7,
    "start_time": "2024-03-15T08:45:42.032Z"
   },
   {
    "duration": 6,
    "start_time": "2024-03-15T08:45:43.513Z"
   },
   {
    "duration": 7,
    "start_time": "2024-03-15T08:45:44.995Z"
   },
   {
    "duration": 5,
    "start_time": "2024-03-15T08:45:47.800Z"
   },
   {
    "duration": 4,
    "start_time": "2024-03-15T08:45:48.642Z"
   },
   {
    "duration": 6,
    "start_time": "2024-03-15T08:45:49.508Z"
   },
   {
    "duration": 7,
    "start_time": "2024-03-15T08:45:51.086Z"
   },
   {
    "duration": 6,
    "start_time": "2024-03-15T08:45:52.233Z"
   },
   {
    "duration": 425,
    "start_time": "2024-03-15T08:46:23.177Z"
   },
   {
    "duration": 69,
    "start_time": "2024-03-15T08:46:25.155Z"
   },
   {
    "duration": 20,
    "start_time": "2024-03-15T08:46:26.295Z"
   },
   {
    "duration": 14,
    "start_time": "2024-03-15T08:46:29.041Z"
   },
   {
    "duration": 10,
    "start_time": "2024-03-15T08:46:32.279Z"
   },
   {
    "duration": 33,
    "start_time": "2024-03-15T08:46:34.177Z"
   },
   {
    "duration": 3,
    "start_time": "2024-03-15T08:46:35.628Z"
   },
   {
    "duration": 7,
    "start_time": "2024-03-15T08:46:36.954Z"
   },
   {
    "duration": 4,
    "start_time": "2024-03-15T08:46:38.652Z"
   },
   {
    "duration": 6,
    "start_time": "2024-03-15T08:46:39.921Z"
   },
   {
    "duration": 4,
    "start_time": "2024-03-15T08:46:41.834Z"
   },
   {
    "duration": 45,
    "start_time": "2024-03-15T08:46:44.517Z"
   },
   {
    "duration": 9,
    "start_time": "2024-03-15T08:46:45.651Z"
   },
   {
    "duration": 4,
    "start_time": "2024-03-15T08:46:47.159Z"
   },
   {
    "duration": 12,
    "start_time": "2024-03-15T08:46:48.373Z"
   },
   {
    "duration": 17,
    "start_time": "2024-03-15T08:46:50.431Z"
   },
   {
    "duration": 16,
    "start_time": "2024-03-15T08:46:51.944Z"
   },
   {
    "duration": 3,
    "start_time": "2024-03-15T08:46:54.006Z"
   },
   {
    "duration": 9,
    "start_time": "2024-03-15T08:46:55.635Z"
   },
   {
    "duration": 6,
    "start_time": "2024-03-15T08:46:59.994Z"
   },
   {
    "duration": 4,
    "start_time": "2024-03-15T08:47:01.633Z"
   },
   {
    "duration": 8,
    "start_time": "2024-03-15T08:47:03.238Z"
   },
   {
    "duration": 3,
    "start_time": "2024-03-15T08:47:06.046Z"
   },
   {
    "duration": 4,
    "start_time": "2024-03-15T08:47:06.955Z"
   },
   {
    "duration": 6,
    "start_time": "2024-03-15T08:47:08.614Z"
   },
   {
    "duration": 7,
    "start_time": "2024-03-15T08:47:09.338Z"
   },
   {
    "duration": 8,
    "start_time": "2024-03-15T08:47:10.694Z"
   },
   {
    "duration": 7,
    "start_time": "2024-03-15T08:47:19.209Z"
   },
   {
    "duration": 5,
    "start_time": "2024-03-15T08:47:20.422Z"
   },
   {
    "duration": 7,
    "start_time": "2024-03-15T08:47:21.793Z"
   },
   {
    "duration": 5,
    "start_time": "2024-03-15T08:47:27.003Z"
   },
   {
    "duration": 4,
    "start_time": "2024-03-15T08:47:28.534Z"
   },
   {
    "duration": 4,
    "start_time": "2024-03-15T08:47:29.506Z"
   },
   {
    "duration": 7,
    "start_time": "2024-03-15T08:47:32.236Z"
   },
   {
    "duration": 5,
    "start_time": "2024-03-15T08:47:34.019Z"
   },
   {
    "duration": 7,
    "start_time": "2024-03-15T08:47:37.062Z"
   },
   {
    "duration": 4,
    "start_time": "2024-03-15T08:47:56.763Z"
   },
   {
    "duration": 4,
    "start_time": "2024-03-15T08:47:57.524Z"
   },
   {
    "duration": 7,
    "start_time": "2024-03-15T08:47:58.214Z"
   },
   {
    "duration": 6,
    "start_time": "2024-03-15T08:47:59.888Z"
   },
   {
    "duration": 5,
    "start_time": "2024-03-15T08:48:01.129Z"
   },
   {
    "duration": 7,
    "start_time": "2024-03-15T08:48:02.482Z"
   },
   {
    "duration": 443,
    "start_time": "2024-03-15T08:48:31.368Z"
   },
   {
    "duration": 20,
    "start_time": "2024-03-15T08:48:31.813Z"
   },
   {
    "duration": 56,
    "start_time": "2024-03-15T08:48:31.835Z"
   },
   {
    "duration": 23,
    "start_time": "2024-03-15T08:48:31.893Z"
   },
   {
    "duration": 58,
    "start_time": "2024-03-15T08:48:31.917Z"
   },
   {
    "duration": 3,
    "start_time": "2024-03-15T08:48:31.977Z"
   },
   {
    "duration": 37,
    "start_time": "2024-03-15T08:48:31.981Z"
   },
   {
    "duration": 46,
    "start_time": "2024-03-15T08:48:32.019Z"
   },
   {
    "duration": 36,
    "start_time": "2024-03-15T08:48:32.066Z"
   },
   {
    "duration": 18,
    "start_time": "2024-03-15T08:48:32.105Z"
   },
   {
    "duration": 73,
    "start_time": "2024-03-15T08:48:32.125Z"
   },
   {
    "duration": 55,
    "start_time": "2024-03-15T08:48:32.200Z"
   },
   {
    "duration": 66,
    "start_time": "2024-03-15T08:48:32.256Z"
   },
   {
    "duration": 40,
    "start_time": "2024-03-15T08:48:32.323Z"
   },
   {
    "duration": 35,
    "start_time": "2024-03-15T08:48:32.364Z"
   },
   {
    "duration": 23,
    "start_time": "2024-03-15T08:48:32.400Z"
   },
   {
    "duration": 3,
    "start_time": "2024-03-15T08:48:32.425Z"
   },
   {
    "duration": 39,
    "start_time": "2024-03-15T08:48:32.429Z"
   },
   {
    "duration": 33,
    "start_time": "2024-03-15T08:48:32.470Z"
   },
   {
    "duration": 8,
    "start_time": "2024-03-15T08:48:32.504Z"
   },
   {
    "duration": 41,
    "start_time": "2024-03-15T08:48:32.513Z"
   },
   {
    "duration": 10,
    "start_time": "2024-03-15T08:48:32.556Z"
   },
   {
    "duration": 5,
    "start_time": "2024-03-15T08:48:32.567Z"
   },
   {
    "duration": 18,
    "start_time": "2024-03-15T08:48:32.573Z"
   },
   {
    "duration": 29,
    "start_time": "2024-03-15T08:48:32.592Z"
   },
   {
    "duration": 11,
    "start_time": "2024-03-15T08:48:32.622Z"
   },
   {
    "duration": 15,
    "start_time": "2024-03-15T08:48:32.634Z"
   },
   {
    "duration": 11,
    "start_time": "2024-03-15T08:48:32.652Z"
   },
   {
    "duration": 14,
    "start_time": "2024-03-15T08:48:32.664Z"
   },
   {
    "duration": 13,
    "start_time": "2024-03-15T08:48:32.679Z"
   },
   {
    "duration": 45,
    "start_time": "2024-03-15T08:48:32.694Z"
   },
   {
    "duration": 39,
    "start_time": "2024-03-15T08:48:32.740Z"
   },
   {
    "duration": 20,
    "start_time": "2024-03-15T08:48:32.780Z"
   },
   {
    "duration": 8,
    "start_time": "2024-03-15T08:48:32.801Z"
   },
   {
    "duration": 33,
    "start_time": "2024-03-15T08:48:32.810Z"
   },
   {
    "duration": 122,
    "start_time": "2024-03-15T08:48:32.845Z"
   },
   {
    "duration": 111,
    "start_time": "2024-03-15T08:48:32.969Z"
   },
   {
    "duration": 107,
    "start_time": "2024-03-15T08:48:33.082Z"
   },
   {
    "duration": 93,
    "start_time": "2024-03-15T08:48:33.190Z"
   },
   {
    "duration": 28,
    "start_time": "2024-03-15T08:48:33.284Z"
   },
   {
    "duration": 20,
    "start_time": "2024-03-15T08:48:33.314Z"
   },
   {
    "duration": 70,
    "start_time": "2024-03-15T08:58:35.809Z"
   },
   {
    "duration": 6,
    "start_time": "2024-03-15T09:26:45.071Z"
   },
   {
    "duration": 4,
    "start_time": "2024-03-15T09:26:45.809Z"
   },
   {
    "duration": 5,
    "start_time": "2024-03-15T09:26:46.880Z"
   },
   {
    "duration": 7,
    "start_time": "2024-03-15T09:27:05.191Z"
   },
   {
    "duration": 5,
    "start_time": "2024-03-15T09:27:06.275Z"
   },
   {
    "duration": 9,
    "start_time": "2024-03-15T09:27:07.732Z"
   },
   {
    "duration": 477,
    "start_time": "2024-03-15T09:27:23.509Z"
   },
   {
    "duration": 20,
    "start_time": "2024-03-15T09:27:23.988Z"
   },
   {
    "duration": 21,
    "start_time": "2024-03-15T09:27:24.010Z"
   },
   {
    "duration": 15,
    "start_time": "2024-03-15T09:27:24.033Z"
   },
   {
    "duration": 42,
    "start_time": "2024-03-15T09:27:24.050Z"
   },
   {
    "duration": 4,
    "start_time": "2024-03-15T09:27:24.094Z"
   },
   {
    "duration": 16,
    "start_time": "2024-03-15T09:27:24.099Z"
   },
   {
    "duration": 22,
    "start_time": "2024-03-15T09:27:24.117Z"
   },
   {
    "duration": 25,
    "start_time": "2024-03-15T09:27:24.140Z"
   },
   {
    "duration": 12,
    "start_time": "2024-03-15T09:27:24.167Z"
   },
   {
    "duration": 51,
    "start_time": "2024-03-15T09:27:24.180Z"
   },
   {
    "duration": 9,
    "start_time": "2024-03-15T09:27:24.232Z"
   },
   {
    "duration": 9,
    "start_time": "2024-03-15T09:27:24.243Z"
   },
   {
    "duration": 20,
    "start_time": "2024-03-15T09:27:24.256Z"
   },
   {
    "duration": 21,
    "start_time": "2024-03-15T09:27:24.277Z"
   },
   {
    "duration": 58,
    "start_time": "2024-03-15T09:27:24.299Z"
   },
   {
    "duration": 4,
    "start_time": "2024-03-15T09:27:24.359Z"
   },
   {
    "duration": 13,
    "start_time": "2024-03-15T09:27:24.364Z"
   },
   {
    "duration": 12,
    "start_time": "2024-03-15T09:27:24.378Z"
   },
   {
    "duration": 37,
    "start_time": "2024-03-15T09:27:24.392Z"
   },
   {
    "duration": 58,
    "start_time": "2024-03-15T09:27:24.430Z"
   },
   {
    "duration": 4,
    "start_time": "2024-03-15T09:27:24.490Z"
   },
   {
    "duration": 10,
    "start_time": "2024-03-15T09:27:24.496Z"
   },
   {
    "duration": 11,
    "start_time": "2024-03-15T09:27:24.508Z"
   },
   {
    "duration": 21,
    "start_time": "2024-03-15T09:27:24.520Z"
   },
   {
    "duration": 22,
    "start_time": "2024-03-15T09:27:24.542Z"
   },
   {
    "duration": 42,
    "start_time": "2024-03-15T09:27:24.566Z"
   },
   {
    "duration": 6,
    "start_time": "2024-03-15T09:27:24.611Z"
   },
   {
    "duration": 40,
    "start_time": "2024-03-15T09:27:24.618Z"
   },
   {
    "duration": 22,
    "start_time": "2024-03-15T09:27:24.660Z"
   },
   {
    "duration": 28,
    "start_time": "2024-03-15T09:27:24.684Z"
   },
   {
    "duration": 27,
    "start_time": "2024-03-15T09:27:24.713Z"
   },
   {
    "duration": 26,
    "start_time": "2024-03-15T09:27:24.741Z"
   },
   {
    "duration": 11,
    "start_time": "2024-03-15T09:27:24.768Z"
   },
   {
    "duration": 24,
    "start_time": "2024-03-15T09:27:24.780Z"
   },
   {
    "duration": 25,
    "start_time": "2024-03-15T09:27:24.806Z"
   },
   {
    "duration": 24,
    "start_time": "2024-03-15T09:27:24.833Z"
   },
   {
    "duration": 38,
    "start_time": "2024-03-15T09:27:24.860Z"
   },
   {
    "duration": 17,
    "start_time": "2024-03-15T09:27:24.899Z"
   },
   {
    "duration": 18,
    "start_time": "2024-03-15T09:27:24.917Z"
   },
   {
    "duration": 22,
    "start_time": "2024-03-15T09:27:24.936Z"
   },
   {
    "duration": 6,
    "start_time": "2024-03-15T09:33:45.026Z"
   },
   {
    "duration": 5,
    "start_time": "2024-03-15T09:33:46.592Z"
   },
   {
    "duration": 9,
    "start_time": "2024-03-15T09:33:48.856Z"
   },
   {
    "duration": 481,
    "start_time": "2024-03-15T10:19:51.225Z"
   },
   {
    "duration": 20,
    "start_time": "2024-03-15T10:19:51.708Z"
   },
   {
    "duration": 51,
    "start_time": "2024-03-15T10:19:51.729Z"
   },
   {
    "duration": 18,
    "start_time": "2024-03-15T10:19:51.782Z"
   },
   {
    "duration": 60,
    "start_time": "2024-03-15T10:19:51.801Z"
   },
   {
    "duration": 3,
    "start_time": "2024-03-15T10:19:51.862Z"
   },
   {
    "duration": 34,
    "start_time": "2024-03-15T10:19:51.866Z"
   },
   {
    "duration": 7,
    "start_time": "2024-03-15T10:19:51.902Z"
   },
   {
    "duration": 9,
    "start_time": "2024-03-15T10:19:51.910Z"
   },
   {
    "duration": 10,
    "start_time": "2024-03-15T10:19:51.922Z"
   },
   {
    "duration": 40,
    "start_time": "2024-03-15T10:19:51.934Z"
   },
   {
    "duration": 8,
    "start_time": "2024-03-15T10:19:51.975Z"
   },
   {
    "duration": 7,
    "start_time": "2024-03-15T10:19:51.985Z"
   },
   {
    "duration": 17,
    "start_time": "2024-03-15T10:19:51.993Z"
   },
   {
    "duration": 30,
    "start_time": "2024-03-15T10:19:52.011Z"
   },
   {
    "duration": 14,
    "start_time": "2024-03-15T10:19:52.043Z"
   },
   {
    "duration": 18,
    "start_time": "2024-03-15T10:19:52.058Z"
   },
   {
    "duration": 36,
    "start_time": "2024-03-15T10:19:52.077Z"
   },
   {
    "duration": 24,
    "start_time": "2024-03-15T10:19:52.114Z"
   },
   {
    "duration": 26,
    "start_time": "2024-03-15T10:19:52.139Z"
   },
   {
    "duration": 27,
    "start_time": "2024-03-15T10:19:52.166Z"
   },
   {
    "duration": 11,
    "start_time": "2024-03-15T10:19:52.194Z"
   },
   {
    "duration": 34,
    "start_time": "2024-03-15T10:19:52.206Z"
   },
   {
    "duration": 29,
    "start_time": "2024-03-15T10:19:52.242Z"
   },
   {
    "duration": 18,
    "start_time": "2024-03-15T10:19:52.272Z"
   },
   {
    "duration": 32,
    "start_time": "2024-03-15T10:19:52.291Z"
   },
   {
    "duration": 28,
    "start_time": "2024-03-15T10:19:52.325Z"
   },
   {
    "duration": 20,
    "start_time": "2024-03-15T10:19:52.356Z"
   },
   {
    "duration": 47,
    "start_time": "2024-03-15T10:19:52.377Z"
   },
   {
    "duration": 21,
    "start_time": "2024-03-15T10:19:52.426Z"
   },
   {
    "duration": 28,
    "start_time": "2024-03-15T10:19:52.448Z"
   },
   {
    "duration": 11,
    "start_time": "2024-03-15T10:19:52.478Z"
   },
   {
    "duration": 32,
    "start_time": "2024-03-15T10:19:52.491Z"
   },
   {
    "duration": 20,
    "start_time": "2024-03-15T10:19:52.524Z"
   },
   {
    "duration": 24,
    "start_time": "2024-03-15T10:19:52.546Z"
   },
   {
    "duration": 31,
    "start_time": "2024-03-15T10:19:52.571Z"
   },
   {
    "duration": 26,
    "start_time": "2024-03-15T10:19:52.603Z"
   },
   {
    "duration": 35,
    "start_time": "2024-03-15T10:19:52.630Z"
   },
   {
    "duration": 14,
    "start_time": "2024-03-15T10:19:52.666Z"
   },
   {
    "duration": 24,
    "start_time": "2024-03-15T10:19:52.682Z"
   },
   {
    "duration": 21,
    "start_time": "2024-03-15T10:19:52.708Z"
   },
   {
    "duration": 6,
    "start_time": "2024-03-15T10:28:58.886Z"
   },
   {
    "duration": 5,
    "start_time": "2024-03-15T10:29:01.099Z"
   },
   {
    "duration": 7,
    "start_time": "2024-03-15T10:29:04.912Z"
   },
   {
    "duration": 702,
    "start_time": "2024-03-15T12:32:49.749Z"
   },
   {
    "duration": 23,
    "start_time": "2024-03-15T12:32:50.453Z"
   },
   {
    "duration": 16,
    "start_time": "2024-03-15T12:32:50.477Z"
   },
   {
    "duration": 12,
    "start_time": "2024-03-15T12:32:50.495Z"
   },
   {
    "duration": 40,
    "start_time": "2024-03-15T12:32:50.509Z"
   },
   {
    "duration": 4,
    "start_time": "2024-03-15T12:32:50.551Z"
   },
   {
    "duration": 8,
    "start_time": "2024-03-15T12:32:50.556Z"
   },
   {
    "duration": 4,
    "start_time": "2024-03-15T12:32:50.566Z"
   },
   {
    "duration": 9,
    "start_time": "2024-03-15T12:32:50.571Z"
   },
   {
    "duration": 35,
    "start_time": "2024-03-15T12:32:50.582Z"
   },
   {
    "duration": 37,
    "start_time": "2024-03-15T12:32:50.618Z"
   },
   {
    "duration": 11,
    "start_time": "2024-03-15T12:32:50.656Z"
   },
   {
    "duration": 4,
    "start_time": "2024-03-15T12:32:50.668Z"
   },
   {
    "duration": 13,
    "start_time": "2024-03-15T12:32:50.673Z"
   },
   {
    "duration": 44,
    "start_time": "2024-03-15T12:32:50.688Z"
   },
   {
    "duration": 16,
    "start_time": "2024-03-15T12:32:50.733Z"
   },
   {
    "duration": 3,
    "start_time": "2024-03-15T12:32:50.751Z"
   },
   {
    "duration": 23,
    "start_time": "2024-03-15T12:32:50.756Z"
   },
   {
    "duration": 6,
    "start_time": "2024-03-15T12:32:50.780Z"
   },
   {
    "duration": 5,
    "start_time": "2024-03-15T12:32:50.787Z"
   },
   {
    "duration": 25,
    "start_time": "2024-03-15T12:32:50.793Z"
   },
   {
    "duration": 3,
    "start_time": "2024-03-15T12:32:50.820Z"
   },
   {
    "duration": 19,
    "start_time": "2024-03-15T12:32:50.825Z"
   },
   {
    "duration": 9,
    "start_time": "2024-03-15T12:32:50.845Z"
   },
   {
    "duration": 6,
    "start_time": "2024-03-15T12:32:50.856Z"
   },
   {
    "duration": 11,
    "start_time": "2024-03-15T12:32:50.863Z"
   },
   {
    "duration": 11,
    "start_time": "2024-03-15T12:32:50.875Z"
   },
   {
    "duration": 25,
    "start_time": "2024-03-15T12:32:50.891Z"
   },
   {
    "duration": 26,
    "start_time": "2024-03-15T12:32:50.918Z"
   },
   {
    "duration": 11,
    "start_time": "2024-03-15T12:32:50.946Z"
   },
   {
    "duration": 5,
    "start_time": "2024-03-15T12:32:50.958Z"
   },
   {
    "duration": 30,
    "start_time": "2024-03-15T12:32:50.965Z"
   },
   {
    "duration": 11,
    "start_time": "2024-03-15T12:32:50.997Z"
   },
   {
    "duration": 6,
    "start_time": "2024-03-15T12:32:51.010Z"
   },
   {
    "duration": 19,
    "start_time": "2024-03-15T12:32:51.017Z"
   },
   {
    "duration": 27,
    "start_time": "2024-03-15T12:32:51.037Z"
   },
   {
    "duration": 7,
    "start_time": "2024-03-15T12:32:51.066Z"
   },
   {
    "duration": 13,
    "start_time": "2024-03-15T12:32:51.074Z"
   },
   {
    "duration": 10,
    "start_time": "2024-03-15T12:32:51.089Z"
   },
   {
    "duration": 5,
    "start_time": "2024-03-15T12:32:51.100Z"
   },
   {
    "duration": 14,
    "start_time": "2024-03-15T12:32:51.107Z"
   },
   {
    "duration": 53,
    "start_time": "2024-03-27T08:10:49.741Z"
   }
  ],
  "colab": {
   "provenance": []
  },
  "kernelspec": {
   "display_name": "Python 3 (ipykernel)",
   "language": "python",
   "name": "python3"
  },
  "language_info": {
   "codemirror_mode": {
    "name": "ipython",
    "version": 3
   },
   "file_extension": ".py",
   "mimetype": "text/x-python",
   "name": "python",
   "nbconvert_exporter": "python",
   "pygments_lexer": "ipython3",
   "version": "3.9.5"
  },
  "toc": {
   "base_numbering": 1,
   "nav_menu": {},
   "number_sections": true,
   "sideBar": true,
   "skip_h1_title": true,
   "title_cell": "Table of Contents",
   "title_sidebar": "Contents",
   "toc_cell": false,
   "toc_position": {},
   "toc_section_display": true,
   "toc_window_display": false
  }
 },
 "nbformat": 4,
 "nbformat_minor": 5
}
